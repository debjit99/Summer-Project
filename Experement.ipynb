{
 "cells": [
  {
   "cell_type": "markdown",
   "metadata": {},
   "source": [
    "# The Spectral algorithm used here is for garph bi-partitioning and so we use the kannan algorihtm with will always perform better than the spectral algorithm \n"
   ]
  },
  {
   "cell_type": "code",
   "execution_count": 1,
   "metadata": {},
   "outputs": [],
   "source": [
    "%matplotlib inline\n",
    "import numpy as np\n",
    "import matplotlib.pyplot as plt\n",
    "from mpl_toolkits import mplot3d\n",
    "import os \n",
    "from Result_Experement import Result\n",
    "\n"
   ]
  },
  {
   "cell_type": "code",
   "execution_count": 2,
   "metadata": {},
   "outputs": [],
   "source": [
    "v_l = 5\n",
    "v_r = 6\n",
    "\n",
    "p_l = 1\n",
    "p_r = 9\n",
    "\n",
    "N = v_r - v_l + 1\n",
    "P = p_r - p_l + 1"
   ]
  },
  {
   "cell_type": "markdown",
   "metadata": {},
   "source": [
    "x = range(v_l, v_r + 1)\n",
    "z = range(p_l, p_r + 1)\n",
    "\n",
    "X, Z = np.meshgrid(x, z)\n",
    "\n",
    "y_SLP = np.ones((5,9))\n",
    "y_UnP = np.ones((5,9))\n",
    "y_RwP = np.ones((5,9))\n",
    "y_SLS = np.ones((5,9))\n",
    "y_UnS = np.ones((5,9))\n",
    "y_RwS = np.ones((5,9))\n",
    "\n",
    "for i in range(0, N):\n",
    "    for j in range(0, P):\n",
    "        n = X[j][i]\n",
    "        p = Z[i][j]/10\n",
    "        \n",
    "        r_SLP, r_UnP, r_RwP, r_SLS, r_UnS, r_RwS = Result(n, p)\n",
    "        y_SLP[j][i] = r_SLP\n",
    "        y_UnP.append(r_UnP) \n",
    "        y_RwP.append(r_RwP)\n",
    "        y_SLS.append(r_SLS)\n",
    "        y_UnS.append(r_UnS) \n",
    "        y_RwS.append(r_RwS)\n",
    "                              "
   ]
  },
  {
   "cell_type": "markdown",
   "metadata": {},
   "source": [
    "fig = plt.figure()\n",
    "ax = plt.axes(projection='3d')\n",
    "ax.contour3D(X, (y_SLS - y_SLP)/1000, Z,   50, cmap='binary', col =\"white\")\n",
    "ax.set_xlabel('vertices')\n",
    "ax.set_ylabel('y_SLP')\n",
    "ax.set_zlabel('p');\n",
    "\n",
    "\n"
   ]
  },
  {
   "cell_type": "markdown",
   "metadata": {},
   "source": [
    "ax.view_init(60, 60)\n",
    "fig\n"
   ]
  },
  {
   "cell_type": "code",
   "execution_count": 3,
   "metadata": {},
   "outputs": [],
   "source": [
    "def fixed_vertex(V):\n",
    "    \n",
    "    y_SLP = []\n",
    "    y_UnP = [] \n",
    "    y_RwP = []\n",
    "    y_SLS = []\n",
    "    y_UnS = [] \n",
    "    y_RwS = []\n",
    "    \n",
    "    for i in range(0, 10):\n",
    "        \n",
    "        r_SLP, r_UnP, r_RwP, r_SLS, r_UnS, r_RwS = Result(V, i/10)\n",
    "        \n",
    "        y_SLP.append(r_SLP)\n",
    "        y_UnP.append(r_UnP) \n",
    "        y_RwP.append(r_RwP)\n",
    "        y_SLS.append(r_SLS)\n",
    "        y_UnS.append(r_UnS) \n",
    "        y_RwS.append(r_RwS)\n",
    "        \n",
    "    return y_SLP, y_UnP, y_RwP, y_SLS, y_UnS, y_RwS\n",
    "    "
   ]
  },
  {
   "cell_type": "markdown",
   "metadata": {},
   "source": [
    "r_SLP, r_UnP, r_RwP, r_SLS, r_UnS, r_RwS = fixed_vertex(10)\n",
    "\n",
    "\n",
    "x = range(0,10) \n",
    "plt.plot(x, r_UnP, color ='r', label ='UnP') \n",
    "plt.plot(x, r_RwP, color ='b', label ='RwP') \n",
    "plt.plot(x, r_SLP, color ='g', label ='SLP') \n",
    "plt.plot(x, r_UnS, color ='y', label ='UnS') \n",
    "\n",
    "plt.plot(x, r_RwS, color ='c', label ='RwS') \n",
    "plt.plot(x, r_SLS, color ='m', label ='SLS') \n",
    "\n",
    "plt.xlabel('probability') \n",
    "plt.ylabel('average_ncut') \n",
    "\n",
    "plt.title(\"Ncut\")\n",
    "plt.legend(loc='upper right')\n",
    "plt.rcParams[\"figure.figsize\"] = [20,9]\n",
    "plt.show()  "
   ]
  },
  {
   "cell_type": "markdown",
   "metadata": {},
   "source": [
    "x = range(0,10) \n",
    "plt.plot(x, r_UnP, color ='r', label ='UnP') \n",
    "plt.plot(x, r_RwP, color ='b', label ='RwP') \n",
    "plt.plot(x, r_SLP, color ='g', label ='SLP') \n",
    "plt.plot(x, r_UnS, color ='y', label ='UnS') \n",
    "\n",
    "plt.plot(x, r_RwS, color ='c', label ='RwS') \n",
    "plt.plot(x, r_SLS, color ='m', label ='SLS') \n",
    "\n",
    "plt.xlabel('probability') \n",
    "plt.ylabel('average_ncut') \n",
    "\n",
    "plt.title(\"Ncut\")\n",
    "plt.legend(loc='upper right')\n",
    "plt.rcParams[\"figure.figsize\"] = [20,9]\n",
    "plt.show() "
   ]
  },
  {
   "cell_type": "markdown",
   "metadata": {},
   "source": [
    "r_SLP, r_UnP, r_RwP, r_SLS, r_UnS, r_RwS = fixed_vertex(11)\n",
    "\n",
    "\n",
    "x = range(0,10) \n",
    "plt.plot(x, r_UnP, color ='r', label ='UnP') \n",
    "plt.plot(x, r_RwP, color ='b', label ='RwP') \n",
    "plt.plot(x, r_SLP, color ='g', label ='SLP') \n",
    "plt.plot(x, r_UnS, color ='y', label ='UnS') \n",
    "\n",
    "plt.plot(x, r_RwS, color ='c', label ='RwS') \n",
    "plt.plot(x, r_SLS, color ='m', label ='SLS') \n",
    "\n",
    "plt.xlabel('probability') \n",
    "plt.ylabel('average_ncut') \n",
    "\n",
    "plt.title(\"Ncut\")\n",
    "plt.legend(loc='upper right')\n",
    "plt.rcParams[\"figure.figsize\"] = [20,9]\n",
    "plt.show() "
   ]
  },
  {
   "cell_type": "code",
   "execution_count": 4,
   "metadata": {},
   "outputs": [],
   "source": [
    "def run_exp(V):\n",
    "    r_SLP, r_UnP, r_RwP, r_SLS, r_UnS, r_RwS = fixed_vertex(V)\n",
    "\n",
    "\n",
    "    x = range(0,10) \n",
    "    plt.plot(x, r_UnP, color ='r', label ='UnP') \n",
    "    plt.plot(x, r_RwP, color ='b', label ='RwP') \n",
    "    plt.plot(x, r_SLP, color ='g', label ='SLP') \n",
    "    plt.plot(x, r_UnS, color ='y', label ='UnS') \n",
    "    plt.plot(x, r_RwS, color ='c', label ='RwS') \n",
    "    plt.plot(x, r_SLS, color ='m', label ='SLS') \n",
    "\n",
    "    plt.xlabel('probability') \n",
    "    plt.ylabel('average_conductance') \n",
    "\n",
    "    plt.title(\"Ncut\")\n",
    "    plt.legend(loc='upper right')\n",
    "    plt.rcParams[\"figure.figsize\"] = [20,9]\n",
    "    path = os.getcwd()\n",
    "    plt.savefig(path + '/Img/' + str(V) + '.png')\n",
    "    plt.close()\n",
    "    \n",
    "    return \n"
   ]
  },
  {
   "cell_type": "code",
   "execution_count": 5,
   "metadata": {},
   "outputs": [
    {
     "ename": "KeyboardInterrupt",
     "evalue": "",
     "output_type": "error",
     "traceback": [
      "\u001b[0;31m---------------------------------------------------------------------------\u001b[0m",
      "\u001b[0;31mKeyboardInterrupt\u001b[0m                         Traceback (most recent call last)",
      "\u001b[0;32m<ipython-input-5-14787b972433>\u001b[0m in \u001b[0;36m<module>\u001b[0;34m\u001b[0m\n\u001b[1;32m      1\u001b[0m \u001b[0;32mfor\u001b[0m \u001b[0mi\u001b[0m \u001b[0;32min\u001b[0m \u001b[0mrange\u001b[0m\u001b[0;34m(\u001b[0m\u001b[0;36m5\u001b[0m\u001b[0;34m,\u001b[0m \u001b[0;36m60\u001b[0m\u001b[0;34m,\u001b[0m \u001b[0;36m5\u001b[0m\u001b[0;34m)\u001b[0m\u001b[0;34m:\u001b[0m\u001b[0;34m\u001b[0m\u001b[0;34m\u001b[0m\u001b[0m\n\u001b[0;32m----> 2\u001b[0;31m     \u001b[0mrun_exp\u001b[0m\u001b[0;34m(\u001b[0m\u001b[0mi\u001b[0m\u001b[0;34m)\u001b[0m\u001b[0;34m\u001b[0m\u001b[0;34m\u001b[0m\u001b[0m\n\u001b[0m",
      "\u001b[0;32m<ipython-input-4-412908da42e7>\u001b[0m in \u001b[0;36mrun_exp\u001b[0;34m(V)\u001b[0m\n\u001b[1;32m      1\u001b[0m \u001b[0;32mdef\u001b[0m \u001b[0mrun_exp\u001b[0m\u001b[0;34m(\u001b[0m\u001b[0mV\u001b[0m\u001b[0;34m)\u001b[0m\u001b[0;34m:\u001b[0m\u001b[0;34m\u001b[0m\u001b[0;34m\u001b[0m\u001b[0m\n\u001b[0;32m----> 2\u001b[0;31m     \u001b[0mr_SLP\u001b[0m\u001b[0;34m,\u001b[0m \u001b[0mr_UnP\u001b[0m\u001b[0;34m,\u001b[0m \u001b[0mr_RwP\u001b[0m\u001b[0;34m,\u001b[0m \u001b[0mr_SLS\u001b[0m\u001b[0;34m,\u001b[0m \u001b[0mr_UnS\u001b[0m\u001b[0;34m,\u001b[0m \u001b[0mr_RwS\u001b[0m \u001b[0;34m=\u001b[0m \u001b[0mfixed_vertex\u001b[0m\u001b[0;34m(\u001b[0m\u001b[0mV\u001b[0m\u001b[0;34m)\u001b[0m\u001b[0;34m\u001b[0m\u001b[0;34m\u001b[0m\u001b[0m\n\u001b[0m\u001b[1;32m      3\u001b[0m \u001b[0;34m\u001b[0m\u001b[0m\n\u001b[1;32m      4\u001b[0m \u001b[0;34m\u001b[0m\u001b[0m\n\u001b[1;32m      5\u001b[0m     \u001b[0mx\u001b[0m \u001b[0;34m=\u001b[0m \u001b[0mrange\u001b[0m\u001b[0;34m(\u001b[0m\u001b[0;36m0\u001b[0m\u001b[0;34m,\u001b[0m\u001b[0;36m10\u001b[0m\u001b[0;34m)\u001b[0m\u001b[0;34m\u001b[0m\u001b[0;34m\u001b[0m\u001b[0m\n",
      "\u001b[0;32m<ipython-input-3-f4c75f8d4b3d>\u001b[0m in \u001b[0;36mfixed_vertex\u001b[0;34m(V)\u001b[0m\n\u001b[1;32m     10\u001b[0m     \u001b[0;32mfor\u001b[0m \u001b[0mi\u001b[0m \u001b[0;32min\u001b[0m \u001b[0mrange\u001b[0m\u001b[0;34m(\u001b[0m\u001b[0;36m0\u001b[0m\u001b[0;34m,\u001b[0m \u001b[0;36m10\u001b[0m\u001b[0;34m)\u001b[0m\u001b[0;34m:\u001b[0m\u001b[0;34m\u001b[0m\u001b[0;34m\u001b[0m\u001b[0m\n\u001b[1;32m     11\u001b[0m \u001b[0;34m\u001b[0m\u001b[0m\n\u001b[0;32m---> 12\u001b[0;31m         \u001b[0mr_SLP\u001b[0m\u001b[0;34m,\u001b[0m \u001b[0mr_UnP\u001b[0m\u001b[0;34m,\u001b[0m \u001b[0mr_RwP\u001b[0m\u001b[0;34m,\u001b[0m \u001b[0mr_SLS\u001b[0m\u001b[0;34m,\u001b[0m \u001b[0mr_UnS\u001b[0m\u001b[0;34m,\u001b[0m \u001b[0mr_RwS\u001b[0m \u001b[0;34m=\u001b[0m \u001b[0mResult\u001b[0m\u001b[0;34m(\u001b[0m\u001b[0mV\u001b[0m\u001b[0;34m,\u001b[0m \u001b[0mi\u001b[0m\u001b[0;34m/\u001b[0m\u001b[0;36m10\u001b[0m\u001b[0;34m)\u001b[0m\u001b[0;34m\u001b[0m\u001b[0;34m\u001b[0m\u001b[0m\n\u001b[0m\u001b[1;32m     13\u001b[0m \u001b[0;34m\u001b[0m\u001b[0m\n\u001b[1;32m     14\u001b[0m         \u001b[0my_SLP\u001b[0m\u001b[0;34m.\u001b[0m\u001b[0mappend\u001b[0m\u001b[0;34m(\u001b[0m\u001b[0mr_SLP\u001b[0m\u001b[0;34m)\u001b[0m\u001b[0;34m\u001b[0m\u001b[0;34m\u001b[0m\u001b[0m\n",
      "\u001b[0;32m~/Desktop/Summer/New Codes /Result_Experement.py\u001b[0m in \u001b[0;36mResult\u001b[0;34m(n, p)\u001b[0m\n\u001b[1;32m     47\u001b[0m \u001b[0;34m\u001b[0m\u001b[0m\n\u001b[1;32m     48\u001b[0m         \u001b[0mGraph\u001b[0m \u001b[0;34m=\u001b[0m \u001b[0;34m[\u001b[0m\u001b[0;34m'g'\u001b[0m \u001b[0;34m+\u001b[0m \u001b[0mstr\u001b[0m\u001b[0;34m(\u001b[0m\u001b[0mi\u001b[0m\u001b[0;34m)\u001b[0m\u001b[0;34m,\u001b[0m \u001b[0mM\u001b[0m\u001b[0;34m]\u001b[0m\u001b[0;34m\u001b[0m\u001b[0;34m\u001b[0m\u001b[0m\n\u001b[0;32m---> 49\u001b[0;31m         \u001b[0mResults_ncut\u001b[0m\u001b[0;34m[\u001b[0m\u001b[0mGraph\u001b[0m\u001b[0;34m[\u001b[0m\u001b[0;36m0\u001b[0m\u001b[0;34m]\u001b[0m\u001b[0;34m]\u001b[0m\u001b[0;34m,\u001b[0m \u001b[0mResults_conductance\u001b[0m\u001b[0;34m[\u001b[0m\u001b[0mGraph\u001b[0m\u001b[0;34m[\u001b[0m\u001b[0;36m0\u001b[0m\u001b[0;34m]\u001b[0m\u001b[0;34m]\u001b[0m \u001b[0;34m=\u001b[0m \u001b[0mshow_results\u001b[0m\u001b[0;34m(\u001b[0m\u001b[0mGraph\u001b[0m\u001b[0;34m[\u001b[0m\u001b[0;36m1\u001b[0m\u001b[0;34m]\u001b[0m\u001b[0;34m)\u001b[0m\u001b[0;34m\u001b[0m\u001b[0;34m\u001b[0m\u001b[0m\n\u001b[0m\u001b[1;32m     50\u001b[0m \u001b[0;34m\u001b[0m\u001b[0m\n\u001b[1;32m     51\u001b[0m     \u001b[0mRL\u001b[0m \u001b[0;34m=\u001b[0m \u001b[0mResults_conductance\u001b[0m\u001b[0;34m.\u001b[0m\u001b[0mT\u001b[0m\u001b[0;34m\u001b[0m\u001b[0;34m\u001b[0m\u001b[0m\n",
      "\u001b[0;32m~/Desktop/Summer/New Codes /RA.py\u001b[0m in \u001b[0;36mshow_results\u001b[0;34m(graph)\u001b[0m\n\u001b[1;32m    403\u001b[0m     \u001b[0madd_col_ncut\u001b[0m\u001b[0;34m,\u001b[0m \u001b[0madd_col_con\u001b[0m  \u001b[0;34m=\u001b[0m \u001b[0;34m[\u001b[0m\u001b[0;34m]\u001b[0m\u001b[0;34m,\u001b[0m \u001b[0;34m[\u001b[0m\u001b[0;34m]\u001b[0m\u001b[0;34m\u001b[0m\u001b[0;34m\u001b[0m\u001b[0m\n\u001b[1;32m    404\u001b[0m \u001b[0;34m\u001b[0m\u001b[0m\n\u001b[0;32m--> 405\u001b[0;31m     \u001b[0madd_col_ncut\u001b[0m\u001b[0;34m,\u001b[0m \u001b[0madd_col_con\u001b[0m \u001b[0;34m=\u001b[0m \u001b[0msymmetric_results\u001b[0m\u001b[0;34m(\u001b[0m\u001b[0mgraph\u001b[0m\u001b[0;34m)\u001b[0m\u001b[0;34m\u001b[0m\u001b[0;34m\u001b[0m\u001b[0m\n\u001b[0m\u001b[1;32m    406\u001b[0m     \u001b[0mun\u001b[0m\u001b[0;34m,\u001b[0m \u001b[0muc\u001b[0m \u001b[0;34m=\u001b[0m \u001b[0munnormalized_results\u001b[0m\u001b[0;34m(\u001b[0m\u001b[0mgraph\u001b[0m\u001b[0;34m)\u001b[0m\u001b[0;34m\u001b[0m\u001b[0;34m\u001b[0m\u001b[0m\n\u001b[1;32m    407\u001b[0m     \u001b[0mrwn\u001b[0m\u001b[0;34m,\u001b[0m \u001b[0mrwc\u001b[0m \u001b[0;34m=\u001b[0m \u001b[0mrandom_walk_results\u001b[0m\u001b[0;34m(\u001b[0m\u001b[0mgraph\u001b[0m\u001b[0;34m)\u001b[0m\u001b[0;34m\u001b[0m\u001b[0;34m\u001b[0m\u001b[0m\n",
      "\u001b[0;32m~/Desktop/Summer/New Codes /RA.py\u001b[0m in \u001b[0;36msymmetric_results\u001b[0;34m(graph)\u001b[0m\n\u001b[1;32m    377\u001b[0m \u001b[0;34m\u001b[0m\u001b[0m\n\u001b[1;32m    378\u001b[0m \u001b[0;34m\u001b[0m\u001b[0m\n\u001b[0;32m--> 379\u001b[0;31m     \u001b[0;32mreturn\u001b[0m \u001b[0mget_results\u001b[0m\u001b[0;34m(\u001b[0m\u001b[0ml\u001b[0m\u001b[0;34m,\u001b[0m \u001b[0mn\u001b[0m\u001b[0;34m,\u001b[0m \u001b[0mw\u001b[0m\u001b[0;34m)\u001b[0m\u001b[0;34m\u001b[0m\u001b[0;34m\u001b[0m\u001b[0m\n\u001b[0m\u001b[1;32m    380\u001b[0m \u001b[0;34m\u001b[0m\u001b[0m\n\u001b[1;32m    381\u001b[0m \u001b[0;34m\u001b[0m\u001b[0m\n",
      "\u001b[0;32m~/Desktop/Summer/New Codes /RA.py\u001b[0m in \u001b[0;36mget_results\u001b[0;34m(l, n, w)\u001b[0m\n\u001b[1;32m    338\u001b[0m     \u001b[0madd_col_con\u001b[0m\u001b[0;34m.\u001b[0m\u001b[0mappend\u001b[0m\u001b[0;34m(\u001b[0m\u001b[0mc\u001b[0m\u001b[0;34m)\u001b[0m\u001b[0;34m\u001b[0m\u001b[0;34m\u001b[0m\u001b[0m\n\u001b[1;32m    339\u001b[0m \u001b[0;34m\u001b[0m\u001b[0m\n\u001b[0;32m--> 340\u001b[0;31m     \u001b[0mclusters\u001b[0m\u001b[0;34m,\u001b[0m \u001b[0mcluster_predict\u001b[0m \u001b[0;34m,\u001b[0m \u001b[0medges_cut\u001b[0m \u001b[0;34m=\u001b[0m \u001b[0mget_clusters\u001b[0m\u001b[0;34m(\u001b[0m\u001b[0mnp\u001b[0m\u001b[0;34m.\u001b[0m\u001b[0mreshape\u001b[0m\u001b[0;34m(\u001b[0m\u001b[0mfielder\u001b[0m\u001b[0;34m[\u001b[0m\u001b[0;36m0\u001b[0m\u001b[0;34m,\u001b[0m\u001b[0;34m:\u001b[0m\u001b[0;34m]\u001b[0m\u001b[0;34m,\u001b[0m\u001b[0;34m(\u001b[0m\u001b[0;36m1\u001b[0m\u001b[0;34m,\u001b[0m\u001b[0mn\u001b[0m\u001b[0;34m)\u001b[0m\u001b[0;34m)\u001b[0m\u001b[0;34m,\u001b[0m \u001b[0mw\u001b[0m\u001b[0;34m,\u001b[0m \u001b[0mn\u001b[0m\u001b[0;34m)\u001b[0m\u001b[0;34m\u001b[0m\u001b[0;34m\u001b[0m\u001b[0m\n\u001b[0m\u001b[1;32m    341\u001b[0m     \u001b[0mnc\u001b[0m\u001b[0;34m,\u001b[0m \u001b[0mc\u001b[0m \u001b[0;34m=\u001b[0m \u001b[0mncut\u001b[0m\u001b[0;34m(\u001b[0m\u001b[0mcluster_predict\u001b[0m\u001b[0;34m,\u001b[0m \u001b[0mw\u001b[0m\u001b[0;34m,\u001b[0m \u001b[0mn\u001b[0m\u001b[0;34m)\u001b[0m\u001b[0;34m\u001b[0m\u001b[0;34m\u001b[0m\u001b[0m\n\u001b[1;32m    342\u001b[0m \u001b[0;34m\u001b[0m\u001b[0m\n",
      "\u001b[0;32m~/Desktop/Summer/New Codes /RA.py\u001b[0m in \u001b[0;36mget_clusters\u001b[0;34m(f, w, n)\u001b[0m\n\u001b[1;32m    225\u001b[0m \u001b[0;34m\u001b[0m\u001b[0m\n\u001b[1;32m    226\u001b[0m     \u001b[0medges_cut\u001b[0m \u001b[0;34m=\u001b[0m \u001b[0;34m[\u001b[0m\u001b[0;34m]\u001b[0m\u001b[0;34m\u001b[0m\u001b[0;34m\u001b[0m\u001b[0m\n\u001b[0;32m--> 227\u001b[0;31m     \u001b[0;32mwhile\u001b[0m\u001b[0;34m(\u001b[0m\u001b[0mcheck_partion\u001b[0m\u001b[0;34m(\u001b[0m\u001b[0mnew_w\u001b[0m\u001b[0;34m,\u001b[0m \u001b[0mn\u001b[0m\u001b[0;34m)\u001b[0m \u001b[0;34m==\u001b[0m \u001b[0;32mFalse\u001b[0m\u001b[0;34m)\u001b[0m\u001b[0;34m:\u001b[0m  \u001b[0;31m# keep on removing edges until we have a parition\u001b[0m\u001b[0;34m\u001b[0m\u001b[0;34m\u001b[0m\u001b[0m\n\u001b[0m\u001b[1;32m    228\u001b[0m         \u001b[0medge_remove\u001b[0m \u001b[0;34m=\u001b[0m \u001b[0mnew_weight\u001b[0m\u001b[0;34m.\u001b[0m\u001b[0mpopleft\u001b[0m\u001b[0;34m(\u001b[0m\u001b[0;34m)\u001b[0m\u001b[0;34m\u001b[0m\u001b[0;34m\u001b[0m\u001b[0m\n\u001b[1;32m    229\u001b[0m \u001b[0;34m\u001b[0m\u001b[0m\n",
      "\u001b[0;32m~/Desktop/Summer/New Codes /RA.py\u001b[0m in \u001b[0;36mcheck_partion\u001b[0;34m(w, n)\u001b[0m\n\u001b[1;32m    126\u001b[0m \u001b[0;34m\u001b[0m\u001b[0m\n\u001b[1;32m    127\u001b[0m                     \u001b[0;32mif\u001b[0m\u001b[0;34m(\u001b[0m\u001b[0mexplored\u001b[0m\u001b[0;34m[\u001b[0m\u001b[0mneighbour\u001b[0m\u001b[0;34m]\u001b[0m \u001b[0;34m==\u001b[0m \u001b[0;36m0\u001b[0m\u001b[0;34m)\u001b[0m\u001b[0;34m:\u001b[0m\u001b[0;34m\u001b[0m\u001b[0;34m\u001b[0m\u001b[0m\n\u001b[0;32m--> 128\u001b[0;31m                         \u001b[0mqueue\u001b[0m\u001b[0;34m.\u001b[0m\u001b[0mappend\u001b[0m\u001b[0;34m(\u001b[0m\u001b[0mneighbour\u001b[0m\u001b[0;34m)\u001b[0m\u001b[0;34m\u001b[0m\u001b[0;34m\u001b[0m\u001b[0m\n\u001b[0m\u001b[1;32m    129\u001b[0m                         \u001b[0mqueue_size\u001b[0m \u001b[0;34m+=\u001b[0m \u001b[0;36m1\u001b[0m\u001b[0;34m\u001b[0m\u001b[0;34m\u001b[0m\u001b[0m\n\u001b[1;32m    130\u001b[0m \u001b[0;34m\u001b[0m\u001b[0m\n",
      "\u001b[0;31mKeyboardInterrupt\u001b[0m: "
     ]
    }
   ],
   "source": [
    "for i in range(5, 60, 5):\n",
    "    run_exp(i)"
   ]
  },
  {
   "cell_type": "code",
   "execution_count": null,
   "metadata": {},
   "outputs": [],
   "source": []
  }
 ],
 "metadata": {
  "kernelspec": {
   "display_name": "Python 3",
   "language": "python",
   "name": "python3"
  },
  "language_info": {
   "codemirror_mode": {
    "name": "ipython",
    "version": 3
   },
   "file_extension": ".py",
   "mimetype": "text/x-python",
   "name": "python",
   "nbconvert_exporter": "python",
   "pygments_lexer": "ipython3",
   "version": "3.6.9"
  }
 },
 "nbformat": 4,
 "nbformat_minor": 2
}

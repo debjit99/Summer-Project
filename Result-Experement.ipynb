{
 "cells": [
  {
   "cell_type": "code",
   "execution_count": 1,
   "metadata": {},
   "outputs": [],
   "source": [
    "import os\n",
    "import import_ipynb\n",
    "from RA import show_results\n",
    "from RA import check_partion\n",
    "\n",
    "import pandas as pd\n",
    "from numpy import *\n",
    "import numpy as np \n",
    "import networkx as nx \n",
    "\n"
   ]
  },
  {
   "cell_type": "code",
   "execution_count": 2,
   "metadata": {},
   "outputs": [],
   "source": [
    "def generate_random_graph(n, p, file_name):\n",
    "    \n",
    "    G= nx.fast_gnp_random_graph(n, p, seed=1, directed=False)\n",
    "    A = nx.to_numpy_matrix(G)\n",
    "    np.savez(file_name, A)\n",
    "    return "
   ]
  },
  {
   "cell_type": "code",
   "execution_count": 3,
   "metadata": {
    "scrolled": false
   },
   "outputs": [],
   "source": [
    "def Result(n, p):\n",
    "    \n",
    "    path = os.getcwd()\n",
    "    file_name = path + '/' + 'dummy.npz'\n",
    "    Results_ncut = pd.DataFrame(index = ['SLUP','SLP', 'SLS', 'UnUP','UnP', 'UnS','RwUP','RwP', 'RwS'])\n",
    "    Results_conductance = pd.DataFrame(index = ['SLUP','SLP', 'SLS', 'UnUP','UnP', 'UnS','RwUP','RwP', 'RwS'])\n",
    "\n",
    "    for i in range(0,10):\n",
    "        \n",
    "        generate_random_graph(n, p, file_name)\n",
    "        data = np.load(file_name)\n",
    "        M = data['arr_0']\n",
    "        \n",
    "        if check_partion(M, n):\n",
    "            continue\n",
    "        \n",
    "        Graph = ['g' + str(i), M]\n",
    "        Results_ncut[Graph[0]], Results_conductance[Graph[0]] = show_results(Graph[1])\n",
    "\n",
    "    RL_Ncut = Results_ncut.T\n",
    "\n",
    "    y_SLP = np.sum(RL_Ncut['SLP'].values)\n",
    "    y_UnP = np.sum(RL_Ncut['UnP'].values)\n",
    "    y_RwP = np.sum(RL_Ncut['RwP'].values)\n",
    "    y_SLS = np.sum(RL_Ncut['SLS'].values)\n",
    "    y_UnS = np.sum(RL_Ncut['UnS'].values)\n",
    "    y_RwS = np.sum(RL_Ncut['RwS'].values)\n",
    "    \n",
    "    return y_SLP, y_UnP, y_RwP, y_SLS, y_UnS, y_RwS"
   ]
  }
 ],
 "metadata": {
  "kernelspec": {
   "display_name": "Python 3",
   "language": "python",
   "name": "python3"
  },
  "language_info": {
   "codemirror_mode": {
    "name": "ipython",
    "version": 3
   },
   "file_extension": ".py",
   "mimetype": "text/x-python",
   "name": "python",
   "nbconvert_exporter": "python",
   "pygments_lexer": "ipython3",
   "version": "3.6.9"
  }
 },
 "nbformat": 4,
 "nbformat_minor": 2
}

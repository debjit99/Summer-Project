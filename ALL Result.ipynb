{
 "cells": [
  {
   "cell_type": "code",
   "execution_count": 1,
   "metadata": {},
   "outputs": [],
   "source": [
    "import os\n",
    "import import_ipynb\n",
    "from RAK import show_results_kannan\n",
    "from RA import show_results\n",
    "from RAH import show_results_hypothesis\n",
    "import pandas as pd\n",
    "from numpy import *\n",
    "import numpy as np \n",
    "\n",
    "Results_ncut_kannan = pd.DataFrame(index = ['UnL' , 'SymL', 'RwL'])\n",
    "Results_conductance_kannan = pd.DataFrame(index = ['UnL' , 'SymL', 'RwL'])\n",
    "\n",
    "Results_ncut_hypothesis = pd.DataFrame(index = ['SLUP','SLP', 'SLS', 'UnUP','UnP', 'UnS','RwUP','RwP', 'RwS'])\n",
    "Results_conductance_hypothesis = pd.DataFrame(index = ['SLUP','SLP', 'SLS', 'UnUP','UnP', 'UnS','RwUP','RwP', 'RwS'])\n",
    "\n",
    "Results_ncut = pd.DataFrame(index = ['SLUP','SLP', 'SLS', 'UnUP','UnP', 'UnS','RwUP','RwP', 'RwS'])\n",
    "Results_conductance = pd.DataFrame(index = ['SLUP','SLP', 'SLS', 'UnUP','UnP', 'UnS','RwUP','RwP', 'RwS'])\n"
   ]
  },
  {
   "cell_type": "code",
   "execution_count": 2,
   "metadata": {},
   "outputs": [],
   "source": [
    "def add_result_row_kannan(graph):\n",
    "    \n",
    "    Results_ncut_kannan[graph[0]], Results_conductance_kannan[graph[0]] = show_results_kannan(graph[1])\n",
    "    \n",
    "def add_result_row(graph):\n",
    "    \n",
    "    Results_ncut[graph[0]], Results_conductance[graph[0]] = show_results(graph[1])\n",
    "    \n",
    "def add_result_row_hypothesis(graph):\n",
    "    \n",
    "    Results_ncut_hypothesis[graph[0]], Results_conductance_hypothesis[graph[0]] = show_results_hypothesis(graph[1])"
   ]
  },
  {
   "cell_type": "code",
   "execution_count": 3,
   "metadata": {},
   "outputs": [],
   "source": [
    "path = \"Random Graph Data/\"\n",
    "dirs = os.listdir(path)\n",
    "FN = 20\n",
    "for filenumber in range(len(dirs)):\n",
    "    if filenumber <= FN:\n",
    "        continue\n",
    "        \n",
    "    name = 'Random Graph Data/' + dirs[filenumber]\n",
    "    if(dirs[filenumber][0] != 'r'):\n",
    "        continue\n",
    "    data = np.load(name)\n",
    "    M = data['arr_0']\n",
    "    Graph = ['g' + str(filenumber), M]\n",
    "    add_result_row(Graph)\n",
    "    add_result_row_kannan(Graph)\n",
    "    add_result_row_hypothesis(Graph)\n",
    "    "
   ]
  }
 ],
 "metadata": {
  "kernelspec": {
   "display_name": "Python 3",
   "language": "python",
   "name": "python3"
  },
  "language_info": {
   "codemirror_mode": {
    "name": "ipython",
    "version": 3
   },
   "file_extension": ".py",
   "mimetype": "text/x-python",
   "name": "python",
   "nbconvert_exporter": "python",
   "pygments_lexer": "ipython3",
   "version": "3.6.9"
  }
 },
 "nbformat": 4,
 "nbformat_minor": 2
}

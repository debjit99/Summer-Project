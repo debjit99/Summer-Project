{
 "cells": [
  {
   "cell_type": "markdown",
   "metadata": {},
   "source": [
    "This code has all algorithm which we proposed and we check it using two types of laplacian that is symmetic and unnormalized laplacian. \n",
    "And we have set the precision for the edge weigths here so we get desired results for the Petersen graph.\n",
    "Here we have used edge weigths as (f_i - f_j)^2. \n",
    "\n",
    "And we are doing it for just for graphs with edge weigth 1 or 0.\n",
    "\n",
    "# here i have added the code for random walk laplacian \n",
    "# Changed the order in hypothesis as the fielder eigenvector order so that we get kannan algorithm only relevant entries are\n"
   ]
  },
  {
   "cell_type": "code",
   "execution_count": 1,
   "metadata": {},
   "outputs": [],
   "source": [
    "import numpy as np\n",
    "import scipy as sp\n",
    "from numpy import linalg as LA\n",
    "import networkx.linalg.algebraicconnectivity as alg\n",
    "import collections \n",
    "import math\n",
    "import pandas as pd\n",
    "\n",
    "\n",
    "Results_ncut = pd.DataFrame(index = ['UnL' , 'SymL', 'RwL'])\n",
    "Results_conductance = pd.DataFrame(index = ['UnL' , 'SymL', 'RwL'])\n",
    "Graphs = []"
   ]
  },
  {
   "cell_type": "code",
   "execution_count": 2,
   "metadata": {},
   "outputs": [],
   "source": [
    "# This wil get us the similarity matrix W given the graph and the number of vertices n.\n",
    "# the vertices are number form 0 to n - 1.\n",
    "def get_matrix2(graph, n):\n",
    "    \n",
    "    w = np.zeros((n, n))\n",
    "   \n",
    "    for x in graph.keys() :\n",
    "        for y in graph[x]:\n",
    "            w[x][y] = 1\n",
    "            w[y][x] = 1\n",
    "\n",
    "    return w\n",
    "    "
   ]
  },
  {
   "cell_type": "code",
   "execution_count": 3,
   "metadata": {},
   "outputs": [],
   "source": [
    "def get_unnormalized_laplacian(w):\n",
    "    \n",
    "    D = w.sum(axis = 1)\n",
    "    \n",
    "    D = np.diag(D)  # The degree matrix D\n",
    "    \n",
    "    L = D - w\n",
    "    \n",
    "    return L"
   ]
  },
  {
   "cell_type": "code",
   "execution_count": 4,
   "metadata": {},
   "outputs": [],
   "source": [
    "def get_symmetric_laplacian(w):\n",
    "    \n",
    "    D = w.sum(axis = 1)\n",
    "    D_sqrt = np.sqrt(D)\n",
    "    \n",
    "    D_1 = np.reciprocal(D_sqrt)\n",
    "    D_1 = np.diag(D_1)  \n",
    "    D = np.diag(D)\n",
    "    L = np.dot(D_1, np.dot(D - w, D_1))\n",
    "    \n",
    "    return L"
   ]
  },
  {
   "cell_type": "code",
   "execution_count": 5,
   "metadata": {},
   "outputs": [],
   "source": [
    "def get_random_walk_laplacian(w):\n",
    "    \n",
    "    D = w.sum(axis = 1)\n",
    "    \n",
    "    D_1 = np.reciprocal(D)\n",
    "    D_1 = np.diag(D_1)  \n",
    "    D = np.diag(D)\n",
    "    L = np.dot(D_1, np.dot(D - w, D_1))\n",
    "    \n",
    "    return L"
   ]
  },
  {
   "cell_type": "code",
   "execution_count": 6,
   "metadata": {},
   "outputs": [],
   "source": [
    "# returns the fielder eigen vector given the similartiy matrix W.\n",
    "\n",
    "def get_fielder(l, n):  #Similairty matix W\n",
    "\n",
    "    eigvals, eigvecs = sp.linalg.eigh(l)# eigen values and eigen vectors of the unnormalized laplacian D - W \n",
    "    #print(\"Eigenvalues: \",eigvals, \"\\n\")\n",
    "    eigvecs = np.round( eigvecs, 5)\n",
    "    eigvals = np.round(eigvals, 4)\n",
    "    cardinality = 1\n",
    "    \n",
    "    fielder_eigval = eigvals[1]\n",
    "    \n",
    "    #print(fielder_eigval)\n",
    "    while(cardinality < n and abs(eigvals[cardinality] - fielder_eigval)<0.000001):\n",
    "        cardinality = cardinality + 1\n",
    "        \n",
    "    fielder = eigvecs.T[1, :] #The 2nd smallest eigen vector of the laplacian L = D - W\n",
    "    \n",
    "    return fielder\n",
    "\n"
   ]
  },
  {
   "cell_type": "code",
   "execution_count": 7,
   "metadata": {},
   "outputs": [],
   "source": [
    "def ncut(cluster_name, w, n):\n",
    "    \n",
    "    cluster_name = np.asarray(cluster_name)\n",
    "    cluster_name = np.reshape(cluster_name, (1,n))\n",
    "    \n",
    "    mull_1 = cluster_name\n",
    "    mull_2 = np.ones((1,n)) - mull_1\n",
    "    \n",
    "    w_1 = np.dot(mull_1, np.dot(w, np.ones((n,1))))\n",
    "    w_2 = np.dot(mull_2, np.dot(w, np.ones((n,1))))\n",
    "    \n",
    "    \n",
    "    cut = np.dot(mull_1, np.dot(w,mull_2.T))\n",
    "    #print(cut, w_1,w_2)\n",
    "    \n",
    "    ans = cut*(1/w_1 + 1/w_2)\n",
    "    ans_1 = cut/min(w_1, w_2)\n",
    "    \n",
    "    return ans[0][0], ans_1[0][0] \n",
    "\n",
    "    "
   ]
  },
  {
   "cell_type": "code",
   "execution_count": 8,
   "metadata": {},
   "outputs": [],
   "source": [
    "def get_cut(clusters, w, n):\n",
    "    cut = []\n",
    "    for x in clusters[0]:\n",
    "        for y in clusters[1]:\n",
    "            if(w[x][y] != 0):\n",
    "                cut.append([x,y])\n",
    "    return cut"
   ]
  },
  {
   "cell_type": "code",
   "execution_count": 9,
   "metadata": {},
   "outputs": [],
   "source": [
    "# Here we use our current algorithm to partition the graph\n",
    "# This returns the clusters, the cluster_name vector and the edeges cut\n",
    "def get_clusters(f, w, n): # the similarity matrix and the number of vertices\n",
    "    \n",
    "    threshold_index = 0\n",
    "    index = np.argsort(f)\n",
    "    #print(index)\n",
    "    \n",
    "    best_conductance = 2\n",
    "    cluster_name = [0]*n\n",
    "    clusters = [[], []]\n",
    "    \n",
    "    for i in range(0, n - 1):\n",
    "        \n",
    "        cluster_name[index[i]] = 1\n",
    "        nc, c = ncut(cluster_name, w, n)\n",
    "        #print(i, nc, c, best_conductance)\n",
    "        if(c <= best_conductance):\n",
    "            best_conductance = c\n",
    "            threshold_index = i\n",
    "    \n",
    "    cluster_name = [0]*n\n",
    "    \n",
    "    for i in range(0,threshold_index + 1):\n",
    "        cluster_name[index[i]] = 1\n",
    "    \n",
    "    for i in range(0, n):\n",
    "        clusters[cluster_name[i]].append(i)\n",
    "        \n",
    "    # this part changes the cluster_name from a list to numpy array (This step helps to write easy codes)\n",
    "    cluster_name = np.asarray(cluster_name)\n",
    "    cluster_name = np.reshape(cluster_name, (1,n))\n",
    "    \n",
    "    cp = cluster_name.flatten().tolist()\n",
    "    \n",
    "    \n",
    "    return clusters, cluster_name\n"
   ]
  },
  {
   "cell_type": "code",
   "execution_count": 10,
   "metadata": {},
   "outputs": [],
   "source": [
    "def get_results(l, n, w):\n",
    "    \n",
    "    \n",
    "    fielder = get_fielder(l, n)\n",
    "    add_col_ncut = []\n",
    "    add_col_con = []\n",
    "    \n",
    "    cl, clp = get_clusters(fielder, w, n) \n",
    "    nc_1, c_1 = ncut(clp, w, n)\n",
    "    \n",
    "    print(\"Ncut value:\", nc_1)\n",
    "    print(\"Conductance:\", c_1)\n",
    "    print(\"Clusters:\", cl)\n",
    "    print(\"Clusters we get using our current algorithm: \", clp)\n",
    "    print(\"The edge-cut of the clusters:\", get_cut(cl, w, n))\n",
    "    \n",
    "    add_col_ncut.append(nc_1)\n",
    "    add_col_con.append(c_1)\n",
    "    \n",
    "    return add_col_ncut, add_col_con"
   ]
  },
  {
   "cell_type": "code",
   "execution_count": 11,
   "metadata": {},
   "outputs": [],
   "source": [
    "def get_results_1(l, n, w):\n",
    "    \n",
    "    \n",
    "    fielder = get_fielder(l, n)\n",
    "    add_col_ncut = []\n",
    "    add_col_con = []\n",
    "    \n",
    "    cl, clp = get_clusters(fielder, w, n) \n",
    "    nc_1, c_1 = ncut(clp, w, n)\n",
    "    \n",
    "    add_col_ncut.append(nc_1)\n",
    "    add_col_con.append(c_1)\n",
    "    \n",
    "    return add_col_ncut, add_col_con"
   ]
  },
  {
   "cell_type": "code",
   "execution_count": 12,
   "metadata": {},
   "outputs": [],
   "source": [
    "def unnormalized_results(graph, print_results):\n",
    "\n",
    "    n = graph[1][0]\n",
    "    graph = graph[0][0]\n",
    "    w = get_matrix2(graph, n)\n",
    "\n",
    "    l = get_unnormalized_laplacian(w)\n",
    "    \n",
    "    if(print_results == True):\n",
    "        print(\"\\nunnormalized results\\n\")\n",
    "        return get_results(l, n, w)\n",
    "    else:\n",
    "        return get_results_1(l, n, w)"
   ]
  },
  {
   "cell_type": "code",
   "execution_count": 13,
   "metadata": {},
   "outputs": [],
   "source": [
    "def symmetric_results(graph, print_results):\n",
    "\n",
    "    n = graph[1][0]\n",
    "    graph = graph[0][0]\n",
    "    w = get_matrix2(graph, n)\n",
    "\n",
    "    l = get_symmetric_laplacian(w)\n",
    "    \n",
    "    if(print_results == True):\n",
    "        print(\"\\nsymmetric results\\n\")\n",
    "        return get_results(l, n, w)\n",
    "    else:\n",
    "        return get_results_1(l, n, w)"
   ]
  },
  {
   "cell_type": "code",
   "execution_count": 14,
   "metadata": {},
   "outputs": [],
   "source": [
    "def random_walk_results(graph, print_results):\n",
    "\n",
    "    n = graph[1][0]\n",
    "    graph = graph[0][0]\n",
    "    w = get_matrix2(graph, n)\n",
    "\n",
    "    l = get_random_walk_laplacian(w)\n",
    "    \n",
    "    if(print_results == True):\n",
    "        print(\"\\nRandomwalk results\\n\")\n",
    "        return get_results(l, n, w)\n",
    "    else:\n",
    "        return get_results_1(l, n, w)"
   ]
  },
  {
   "cell_type": "code",
   "execution_count": 15,
   "metadata": {},
   "outputs": [],
   "source": [
    "def show_results(graph, print_results):\n",
    "    \n",
    "    add_col_ncut, add_col_con  = [], []\n",
    "    \n",
    "    add_col_ncut, add_col_con = symmetric_results(graph[1], print_results)\n",
    "    un, uc = unnormalized_results(graph[1], print_results)\n",
    "    rwn, rwc = random_walk_results(graph[1], print_results)\n",
    "    \n",
    "    add_col_ncut += un\n",
    "    add_col_con += uc\n",
    "    \n",
    "    add_col_ncut += rwn\n",
    "    add_col_con += rwc\n",
    "    \n",
    "    Results_ncut[graph[0]], Results_conductance[graph[0]] = add_col_ncut, add_col_con\n",
    "    return 0"
   ]
  },
  {
   "cell_type": "code",
   "execution_count": null,
   "metadata": {},
   "outputs": [],
   "source": []
  },
  {
   "cell_type": "code",
   "execution_count": null,
   "metadata": {},
   "outputs": [],
   "source": []
  },
  {
   "cell_type": "code",
   "execution_count": null,
   "metadata": {},
   "outputs": [],
   "source": []
  },
  {
   "cell_type": "code",
   "execution_count": null,
   "metadata": {},
   "outputs": [],
   "source": []
  },
  {
   "cell_type": "code",
   "execution_count": 16,
   "metadata": {
    "scrolled": true
   },
   "outputs": [
    {
     "name": "stdout",
     "output_type": "stream",
     "text": [
      "\n",
      "symmetric results\n",
      "\n",
      "Ncut value: 0.9333333333333333\n",
      "Conductance: 0.4666666666666667\n",
      "Clusters: [[0, 4, 5, 8, 9], [1, 2, 3, 6, 7]]\n",
      "Clusters we get using our current algorithm:  [[0 1 1 1 0 0 1 1 0 0]]\n",
      "The edge-cut of the clusters: [[0, 2], [0, 3], [4, 1], [4, 2], [5, 6], [8, 3], [8, 7]]\n",
      "\n",
      "unnormalized results\n",
      "\n",
      "Ncut value: 0.9333333333333333\n",
      "Conductance: 0.4666666666666667\n",
      "Clusters: [[0, 5, 6, 7, 9], [1, 2, 3, 4, 8]]\n",
      "Clusters we get using our current algorithm:  [[0 1 1 1 1 0 0 0 1 0]]\n",
      "The edge-cut of the clusters: [[0, 2], [0, 3], [6, 1], [7, 2], [7, 8], [9, 4], [9, 8]]\n",
      "\n",
      "Randomwalk results\n",
      "\n",
      "Ncut value: 0.9333333333333333\n",
      "Conductance: 0.4666666666666667\n",
      "Clusters: [[2, 5, 7, 8, 9], [0, 1, 3, 4, 6]]\n",
      "Clusters we get using our current algorithm:  [[1 1 0 1 1 0 1 0 0 0]]\n",
      "The edge-cut of the clusters: [[2, 0], [2, 4], [5, 0], [5, 6], [7, 6], [8, 3], [9, 4]]\n"
     ]
    },
    {
     "data": {
      "text/plain": [
       "0"
      ]
     },
     "execution_count": 16,
     "metadata": {},
     "output_type": "execute_result"
    }
   ],
   "source": [
    "Petersen = ['Petersen', [[{0 : [2, 3],\n",
    "         1 : [4, 3],\n",
    "         2 : [0, 4],\n",
    "         3 : [0, 1],\n",
    "         4 : [1, 2],\n",
    "         5 : [6, 0],\n",
    "         6 : [7, 1],\n",
    "         7 : [8, 2],\n",
    "         8 : [9, 3],\n",
    "         9 : [5, 4]\n",
    "             }],\n",
    "        [10]]]\n",
    "\n",
    "Graphs.append(Petersen)\n",
    "show_results(Petersen, True)"
   ]
  },
  {
   "cell_type": "code",
   "execution_count": 17,
   "metadata": {
    "scrolled": true
   },
   "outputs": [
    {
     "name": "stdout",
     "output_type": "stream",
     "text": [
      "\n",
      "symmetric results\n",
      "\n",
      "Ncut value: 0.6666666666666666\n",
      "Conductance: 0.3333333333333333\n",
      "Clusters: [[0, 1, 4, 5], [2, 3, 6, 7]]\n",
      "Clusters we get using our current algorithm:  [[0 0 1 1 0 0 1 1]]\n",
      "The edge-cut of the clusters: [[0, 3], [1, 2], [4, 6], [4, 7], [5, 6]]\n",
      "\n",
      "unnormalized results\n",
      "\n",
      "Ncut value: 0.6666666666666666\n",
      "Conductance: 0.3333333333333333\n",
      "Clusters: [[2, 3, 6, 7], [0, 1, 4, 5]]\n",
      "Clusters we get using our current algorithm:  [[1 1 0 0 1 1 0 0]]\n",
      "The edge-cut of the clusters: [[2, 1], [3, 0], [6, 4], [6, 5], [7, 4]]\n",
      "\n",
      "Randomwalk results\n",
      "\n",
      "Ncut value: 0.6666666666666666\n",
      "Conductance: 0.3333333333333333\n",
      "Clusters: [[0, 1, 4, 5], [2, 3, 6, 7]]\n",
      "Clusters we get using our current algorithm:  [[0 0 1 1 0 0 1 1]]\n",
      "The edge-cut of the clusters: [[0, 3], [1, 2], [4, 6], [4, 7], [5, 6]]\n"
     ]
    },
    {
     "data": {
      "text/plain": [
       "0"
      ]
     },
     "execution_count": 17,
     "metadata": {},
     "output_type": "execute_result"
    }
   ],
   "source": [
    "Enneahedron = ['Enneahedron', [[{0 : [1, 3, 4],\n",
    "         1 : [0, 2, 4, 5],\n",
    "         2 : [1, 3, 6],\n",
    "         3 : [0, 7, 6, 2],\n",
    "         4 : [0, 1, 5, 6, 7],\n",
    "         5 : [1, 4, 6],\n",
    "         6 : [2, 3, 4, 5, 7],\n",
    "         7 : [4, 3, 6],\n",
    "             }],\n",
    "        [8]]]\n",
    "Graphs.append(Enneahedron)\n",
    "show_results(Enneahedron, True)"
   ]
  },
  {
   "cell_type": "code",
   "execution_count": 18,
   "metadata": {
    "scrolled": true
   },
   "outputs": [
    {
     "name": "stdout",
     "output_type": "stream",
     "text": [
      "\n",
      "symmetric results\n",
      "\n",
      "Ncut value: 0.75\n",
      "Conductance: 0.375\n",
      "Clusters: [[0, 1, 4, 6], [2, 3, 5, 7]]\n",
      "Clusters we get using our current algorithm:  [[0 0 1 1 0 1 0 1]]\n",
      "The edge-cut of the clusters: [[0, 3], [1, 2], [1, 5], [4, 3], [6, 3], [6, 7]]\n",
      "\n",
      "unnormalized results\n",
      "\n",
      "Ncut value: 0.75\n",
      "Conductance: 0.375\n",
      "Clusters: [[0, 1, 4, 6], [2, 3, 5, 7]]\n",
      "Clusters we get using our current algorithm:  [[0 0 1 1 0 1 0 1]]\n",
      "The edge-cut of the clusters: [[0, 3], [1, 2], [1, 5], [4, 3], [6, 3], [6, 7]]\n",
      "\n",
      "Randomwalk results\n",
      "\n",
      "Ncut value: 0.75\n",
      "Conductance: 0.375\n",
      "Clusters: [[0, 1, 4, 6], [2, 3, 5, 7]]\n",
      "Clusters we get using our current algorithm:  [[0 0 1 1 0 1 0 1]]\n",
      "The edge-cut of the clusters: [[0, 3], [1, 2], [1, 5], [4, 3], [6, 3], [6, 7]]\n"
     ]
    },
    {
     "data": {
      "text/plain": [
       "0"
      ]
     },
     "execution_count": 18,
     "metadata": {},
     "output_type": "execute_result"
    }
   ],
   "source": [
    "Enneahedron_1 = ['Enneahedron_1',[[{0 : [1, 3, 4],\n",
    "         1 : [0, 2, 4, 6, 5],\n",
    "         2 : [1, 3, 5],\n",
    "         3 : [0, 4, 7, 5, 2],\n",
    "         4 : [0, 1, 3, 6],\n",
    "         5 : [1, 7, 3, 2],\n",
    "         6 : [1, 3, 4, 7],\n",
    "         7 : [6, 5],\n",
    "             }],\n",
    "        [8]]]\n",
    "Graphs.append(Enneahedron_1)\n",
    "show_results(Enneahedron_1, True)"
   ]
  },
  {
   "cell_type": "code",
   "execution_count": 19,
   "metadata": {
    "scrolled": true
   },
   "outputs": [
    {
     "name": "stdout",
     "output_type": "stream",
     "text": [
      "\n",
      "symmetric results\n",
      "\n",
      "Ncut value: 0.24761904761904763\n",
      "Conductance: 0.2\n",
      "Clusters: [[0, 1, 2], [3, 4, 5, 6, 7, 8, 9, 10, 11]]\n",
      "Clusters we get using our current algorithm:  [[0 0 0 1 1 1 1 1 1 1 1 1]]\n",
      "The edge-cut of the clusters: [[2, 3]]\n",
      "\n",
      "unnormalized results\n",
      "\n",
      "Ncut value: 0.24761904761904763\n",
      "Conductance: 0.2\n",
      "Clusters: [[0, 1, 2], [3, 4, 5, 6, 7, 8, 9, 10, 11]]\n",
      "Clusters we get using our current algorithm:  [[0 0 0 1 1 1 1 1 1 1 1 1]]\n",
      "The edge-cut of the clusters: [[2, 3]]\n",
      "\n",
      "Randomwalk results\n",
      "\n",
      "Ncut value: 0.24761904761904763\n",
      "Conductance: 0.2\n",
      "Clusters: [[0, 1, 2], [3, 4, 5, 6, 7, 8, 9, 10, 11]]\n",
      "Clusters we get using our current algorithm:  [[0 0 0 1 1 1 1 1 1 1 1 1]]\n",
      "The edge-cut of the clusters: [[2, 3]]\n"
     ]
    },
    {
     "data": {
      "text/plain": [
       "0"
      ]
     },
     "execution_count": 19,
     "metadata": {},
     "output_type": "execute_result"
    }
   ],
   "source": [
    "Cockroach = ['Cockroach',[[{0 : [1],\n",
    "         1 : [0, 2],\n",
    "         2 : [1, 3],\n",
    "         3 : [2, 4, 8],\n",
    "         4 : [3, 5, 7],\n",
    "         5 : [4, 6],\n",
    "         6 : [5, 7],\n",
    "         7 : [6, 8, 4],\n",
    "         8 : [7, 9, 3],\n",
    "         9 : [8, 10],\n",
    "         10 : [11]\n",
    "             }],\n",
    "        [12]]]\n",
    "Graphs.append(Cockroach)\n",
    "show_results(Cockroach, True)"
   ]
  },
  {
   "cell_type": "code",
   "execution_count": 20,
   "metadata": {
    "scrolled": false
   },
   "outputs": [
    {
     "name": "stdout",
     "output_type": "stream",
     "text": [
      "\n",
      "symmetric results\n",
      "\n",
      "Ncut value: 0.29166666666666663\n",
      "Conductance: 0.16666666666666666\n",
      "Clusters: [[3, 4, 5, 6, 7, 8], [0, 1, 2, 9, 10, 11]]\n",
      "Clusters we get using our current algorithm:  [[1 1 1 0 0 0 0 0 0 1 1 1]]\n",
      "The edge-cut of the clusters: [[3, 2], [8, 9]]\n",
      "\n",
      "unnormalized results\n",
      "\n",
      "Ncut value: 0.29166666666666663\n",
      "Conductance: 0.16666666666666666\n",
      "Clusters: [[3, 4, 5, 6, 7, 8], [0, 1, 2, 9, 10, 11]]\n",
      "Clusters we get using our current algorithm:  [[1 1 1 0 0 0 0 0 0 1 1 1]]\n",
      "The edge-cut of the clusters: [[3, 2], [8, 9]]\n",
      "\n",
      "Randomwalk results\n",
      "\n",
      "Ncut value: 0.29166666666666663\n",
      "Conductance: 0.16666666666666666\n",
      "Clusters: [[0, 1, 2, 9, 10, 11], [3, 4, 5, 6, 7, 8]]\n",
      "Clusters we get using our current algorithm:  [[0 0 0 1 1 1 1 1 1 0 0 0]]\n",
      "The edge-cut of the clusters: [[2, 3], [9, 8]]\n"
     ]
    },
    {
     "data": {
      "text/plain": [
       "0"
      ]
     },
     "execution_count": 20,
     "metadata": {},
     "output_type": "execute_result"
    }
   ],
   "source": [
    "Cockroach_1 = ['Cockroach_1', [[{0 : [1, 11],\n",
    "         1 : [0, 2],\n",
    "         2 : [1, 3],\n",
    "         3 : [2, 4, 8],\n",
    "         4 : [3, 5, 7],\n",
    "         5 : [4, 6],\n",
    "         6 : [5, 7],\n",
    "         7 : [6, 8, 4],\n",
    "         8 : [7, 9, 3],\n",
    "         9 : [8, 10],\n",
    "         10 : [11],\n",
    "         11 : [0]    }],\n",
    "        [12]]]\n",
    "\n",
    "Graphs.append(Cockroach_1)\n",
    "show_results(Cockroach_1, True)"
   ]
  },
  {
   "cell_type": "code",
   "execution_count": 21,
   "metadata": {
    "scrolled": true
   },
   "outputs": [
    {
     "name": "stdout",
     "output_type": "stream",
     "text": [
      "\n",
      "symmetric results\n",
      "\n",
      "Ncut value: 0.6917647058823528\n",
      "Conductance: 0.4117647058823529\n",
      "Clusters: [[0, 1, 2, 3, 4, 11], [5, 6, 7, 8, 9, 10]]\n",
      "Clusters we get using our current algorithm:  [[0 0 0 0 0 1 1 1 1 1 1 0]]\n",
      "The edge-cut of the clusters: [[4, 5], [11, 5], [11, 6], [11, 7], [11, 8], [11, 9], [11, 10]]\n",
      "\n",
      "unnormalized results\n",
      "\n",
      "Ncut value: 0.6917647058823528\n",
      "Conductance: 0.4117647058823529\n",
      "Clusters: [[0, 1, 2, 3, 4, 11], [5, 6, 7, 8, 9, 10]]\n",
      "Clusters we get using our current algorithm:  [[0 0 0 0 0 1 1 1 1 1 1 0]]\n",
      "The edge-cut of the clusters: [[4, 5], [11, 5], [11, 6], [11, 7], [11, 8], [11, 9], [11, 10]]\n",
      "\n",
      "Randomwalk results\n",
      "\n",
      "Ncut value: 0.6917647058823528\n",
      "Conductance: 0.4117647058823529\n",
      "Clusters: [[0, 1, 2, 3, 4, 11], [5, 6, 7, 8, 9, 10]]\n",
      "Clusters we get using our current algorithm:  [[0 0 0 0 0 1 1 1 1 1 1 0]]\n",
      "The edge-cut of the clusters: [[4, 5], [11, 5], [11, 6], [11, 7], [11, 8], [11, 9], [11, 10]]\n"
     ]
    },
    {
     "data": {
      "text/plain": [
       "0"
      ]
     },
     "execution_count": 21,
     "metadata": {},
     "output_type": "execute_result"
    }
   ],
   "source": [
    "Path_point  = ['Path_point',[[{0 : [1],\n",
    "         1 : [0, 2],\n",
    "         2 : [1, 3],\n",
    "         3 : [2, 4],\n",
    "         4 : [3, 5],\n",
    "         5 : [4, 6],\n",
    "         6 : [5, 7],\n",
    "         7 : [6, 8],\n",
    "         8: [7, 9],\n",
    "         9: [8, 10],\n",
    "         10:[9, 11],\n",
    "         11 :[0,1,2,3,4,5,6,7,8,9,10]\n",
    "                }],\n",
    "        [12]]]\n",
    "\n",
    "Graphs.append(Path_point)\n",
    "show_results(Path_point, True)"
   ]
  },
  {
   "cell_type": "code",
   "execution_count": 22,
   "metadata": {
    "scrolled": true
   },
   "outputs": [
    {
     "name": "stdout",
     "output_type": "stream",
     "text": [
      "\n",
      "symmetric results\n",
      "\n",
      "Ncut value: 0.15384615384615385\n",
      "Conductance: 0.07692307692307693\n",
      "Clusters: [[4, 5, 6, 7], [0, 1, 2, 3]]\n",
      "Clusters we get using our current algorithm:  [[1 1 1 1 0 0 0 0]]\n",
      "The edge-cut of the clusters: [[4, 1]]\n",
      "\n",
      "unnormalized results\n",
      "\n",
      "Ncut value: 0.15384615384615385\n",
      "Conductance: 0.07692307692307693\n",
      "Clusters: [[4, 5, 6, 7], [0, 1, 2, 3]]\n",
      "Clusters we get using our current algorithm:  [[1 1 1 1 0 0 0 0]]\n",
      "The edge-cut of the clusters: [[4, 1]]\n",
      "\n",
      "Randomwalk results\n",
      "\n",
      "Ncut value: 0.15384615384615385\n",
      "Conductance: 0.07692307692307693\n",
      "Clusters: [[0, 1, 2, 3], [4, 5, 6, 7]]\n",
      "Clusters we get using our current algorithm:  [[0 0 0 0 1 1 1 1]]\n",
      "The edge-cut of the clusters: [[1, 4]]\n"
     ]
    },
    {
     "data": {
      "text/plain": [
       "0"
      ]
     },
     "execution_count": 22,
     "metadata": {},
     "output_type": "execute_result"
    }
   ],
   "source": [
    "Two_clusters = ['Two_clusters', [[{0 : [1, 2, 3],\n",
    "         1 : [0, 2, 3, 4],\n",
    "         2 : [0, 1, 3],\n",
    "         3 : [0, 1, 2],\n",
    "         4 : [5, 6, 7],\n",
    "         5 : [4, 6, 7],\n",
    "         6 : [4, 5, 7],\n",
    "         7 : [4, 5, 6]\n",
    "        }],\n",
    "        [8]]]\n",
    "\n",
    "Graphs.append(Two_clusters)\n",
    "show_results(Two_clusters, True)"
   ]
  },
  {
   "cell_type": "code",
   "execution_count": 23,
   "metadata": {},
   "outputs": [
    {
     "name": "stdout",
     "output_type": "stream",
     "text": [
      "{0: [1], 20: [21], 1: [2], 21: [22], 2: [3], 22: [23], 3: [4], 23: [24], 4: [5], 24: [25], 5: [6], 25: [26], 6: [7], 26: [27], 7: [8], 27: [28], 8: [9], 28: [29], 9: [10], 29: [30], 10: [11], 30: [31], 11: [12], 31: [32], 12: [13], 32: [33], 13: [14], 33: [34], 14: [15], 34: [35], 15: [16], 35: [36], 16: [17], 36: [37], 17: [18], 37: [38], 18: [19], 38: [39]}\n",
      "\n",
      "symmetric results\n",
      "\n",
      "Ncut value: 0.09270516717325228\n",
      "Conductance: 0.07142857142857142\n",
      "Clusters: [[25, 26, 27, 28, 29, 30, 31, 32, 33, 34], [0, 1, 2, 3, 4, 5, 6, 7, 8, 9, 10, 11, 12, 13, 14, 15, 16, 17, 18, 19, 20, 21, 22, 23, 24, 35, 36, 37, 38, 39]]\n",
      "Clusters we get using our current algorithm:  [[1 1 1 1 1 1 1 1 1 1 1 1 1 1 1 1 1 1 1 1 1 1 1 1 1 0 0 0 0 0 0 0 0 0 0 1\n",
      "  1 1 1 1]]\n",
      "The edge-cut of the clusters: [[25, 24], [34, 35]]\n",
      "\n",
      "unnormalized results\n",
      "\n",
      "Ncut value: 0.09270516717325228\n",
      "Conductance: 0.07142857142857142\n",
      "Clusters: [[25, 26, 27, 28, 29, 30, 31, 32, 33, 34], [0, 1, 2, 3, 4, 5, 6, 7, 8, 9, 10, 11, 12, 13, 14, 15, 16, 17, 18, 19, 20, 21, 22, 23, 24, 35, 36, 37, 38, 39]]\n",
      "Clusters we get using our current algorithm:  [[1 1 1 1 1 1 1 1 1 1 1 1 1 1 1 1 1 1 1 1 1 1 1 1 1 0 0 0 0 0 0 0 0 0 0 1\n",
      "  1 1 1 1]]\n",
      "The edge-cut of the clusters: [[25, 24], [34, 35]]\n",
      "\n",
      "Randomwalk results\n",
      "\n",
      "Ncut value: 0.09270516717325228\n",
      "Conductance: 0.07142857142857142\n",
      "Clusters: [[0, 1, 2, 3, 4, 15, 16, 17, 18, 19], [5, 6, 7, 8, 9, 10, 11, 12, 13, 14, 20, 21, 22, 23, 24, 25, 26, 27, 28, 29, 30, 31, 32, 33, 34, 35, 36, 37, 38, 39]]\n",
      "Clusters we get using our current algorithm:  [[0 0 0 0 0 1 1 1 1 1 1 1 1 1 1 0 0 0 0 0 1 1 1 1 1 1 1 1 1 1 1 1 1 1 1 1\n",
      "  1 1 1 1]]\n",
      "The edge-cut of the clusters: [[4, 5], [15, 14]]\n"
     ]
    },
    {
     "data": {
      "text/plain": [
       "0"
      ]
     },
     "execution_count": 23,
     "metadata": {},
     "output_type": "execute_result"
    }
   ],
   "source": [
    "Discrete_moons = {}\n",
    "\n",
    "for i in range(0, 19):\n",
    "    Discrete_moons[i] = [i + 1]\n",
    "    Discrete_moons[i + 20] = [i + 21]\n",
    "\n",
    "print(Discrete_moons)\n",
    "\n",
    "for i in range(0, 10):\n",
    "    Discrete_moons[i].append(19 - i)\n",
    "    Discrete_moons[i + 20].append(39 - i)\n",
    "\n",
    "for i in range(0, 5):\n",
    "    Discrete_moons[i + 10].append(24 - i)\n",
    "#print(Discrete_moons)\n",
    "\n",
    "D_M = ['Discrete_moons',[[Discrete_moons], [40]]]\n",
    "\n",
    "Graphs.append(D_M)\n",
    "show_results(D_M, True)"
   ]
  },
  {
   "cell_type": "code",
   "execution_count": 24,
   "metadata": {
    "scrolled": true
   },
   "outputs": [
    {
     "name": "stdout",
     "output_type": "stream",
     "text": [
      "\n",
      "symmetric results\n",
      "\n",
      "Ncut value: 0.10526315789473684\n",
      "Conductance: 0.05263157894736842\n",
      "Clusters: [[10, 11, 12, 13, 14, 15, 16, 17, 18, 19], [0, 1, 2, 3, 4, 5, 6, 7, 8, 9]]\n",
      "Clusters we get using our current algorithm:  [[1 1 1 1 1 1 1 1 1 1 0 0 0 0 0 0 0 0 0 0]]\n",
      "The edge-cut of the clusters: [[10, 0]]\n",
      "\n",
      "unnormalized results\n",
      "\n",
      "Ncut value: 0.10526315789473684\n",
      "Conductance: 0.05263157894736842\n",
      "Clusters: [[0, 1, 2, 3, 4, 5, 6, 7, 8, 9], [10, 11, 12, 13, 14, 15, 16, 17, 18, 19]]\n",
      "Clusters we get using our current algorithm:  [[0 0 0 0 0 0 0 0 0 0 1 1 1 1 1 1 1 1 1 1]]\n",
      "The edge-cut of the clusters: [[0, 10]]\n",
      "\n",
      "Randomwalk results\n",
      "\n",
      "Ncut value: 0.10526315789473684\n",
      "Conductance: 0.05263157894736842\n",
      "Clusters: [[0, 1, 2, 3, 4, 5, 6, 7, 8, 9], [10, 11, 12, 13, 14, 15, 16, 17, 18, 19]]\n",
      "Clusters we get using our current algorithm:  [[0 0 0 0 0 0 0 0 0 0 1 1 1 1 1 1 1 1 1 1]]\n",
      "The edge-cut of the clusters: [[0, 10]]\n"
     ]
    },
    {
     "data": {
      "text/plain": [
       "0"
      ]
     },
     "execution_count": 24,
     "metadata": {},
     "output_type": "execute_result"
    }
   ],
   "source": [
    "Double_Tree = {}\n",
    "\n",
    "for i in range(1,10):\n",
    "    Double_Tree[i] = [math.floor((i - 1)/2)]\n",
    "    Double_Tree[i + 10] = [10 + math.floor((i - 1)/2)]\n",
    "\n",
    "Double_Tree[0] = [10]\n",
    "\n",
    "D_T = ['Double_Tree',[[Double_Tree], [20]]]\n",
    "\n",
    "Graphs.append(D_T)\n",
    "show_results(D_T, True)"
   ]
  },
  {
   "cell_type": "code",
   "execution_count": 25,
   "metadata": {},
   "outputs": [
    {
     "name": "stdout",
     "output_type": "stream",
     "text": [
      "['Discrete_moons', [[{0: [1, 19], 20: [21, 39], 1: [2, 18], 21: [22, 38], 2: [3, 17], 22: [23, 37], 3: [4, 16], 23: [24, 36], 4: [5, 15], 24: [25, 35], 5: [6, 14], 25: [26, 34], 6: [7, 13], 26: [27, 33], 7: [8, 12], 27: [28, 32], 8: [9, 11], 28: [29, 31], 9: [10, 10], 29: [30, 30], 10: [11, 24], 30: [31], 11: [12, 23], 31: [32], 12: [13, 22], 32: [33], 13: [14, 21], 33: [34], 14: [15, 20], 34: [35], 15: [16], 35: [36], 16: [17], 36: [37], 17: [18], 37: [38], 18: [19], 38: [39]}], [40]]]\n"
     ]
    }
   ],
   "source": [
    "print(D_M)"
   ]
  },
  {
   "cell_type": "code",
   "execution_count": 26,
   "metadata": {},
   "outputs": [
    {
     "name": "stdout",
     "output_type": "stream",
     "text": [
      "['Double_Tree1', [[{1: [0, 2], 11: [10], 2: [0, 3], 12: [10], 3: [1, 4], 13: [11], 4: [1, 5], 14: [11], 5: [2, 15, 6], 15: [12], 6: [2, 16, 7], 16: [12], 7: [3, 17, 8], 17: [13], 8: [3, 18, 9], 18: [13], 9: [4], 19: [14], 0: [10, 1]}], [20]]]\n",
      "\n",
      "symmetric results\n",
      "\n",
      "Ncut value: 0.33695652173913043\n",
      "Conductance: 0.25\n",
      "Clusters: [[10, 11, 13, 14, 17, 18, 19], [0, 1, 2, 3, 4, 5, 6, 7, 8, 9, 12, 15, 16]]\n",
      "Clusters we get using our current algorithm:  [[1 1 1 1 1 1 1 1 1 1 0 0 1 0 0 1 1 0 0 0]]\n",
      "The edge-cut of the clusters: [[10, 0], [10, 12], [17, 7], [18, 8]]\n",
      "\n",
      "unnormalized results\n",
      "\n",
      "Ncut value: 0.33695652173913043\n",
      "Conductance: 0.25\n",
      "Clusters: [[10, 11, 13, 14, 17, 18, 19], [0, 1, 2, 3, 4, 5, 6, 7, 8, 9, 12, 15, 16]]\n",
      "Clusters we get using our current algorithm:  [[1 1 1 1 1 1 1 1 1 1 0 0 1 0 0 1 1 0 0 0]]\n",
      "The edge-cut of the clusters: [[10, 0], [10, 12], [17, 7], [18, 8]]\n",
      "\n",
      "Randomwalk results\n",
      "\n",
      "Ncut value: 0.4535005224660397\n",
      "Conductance: 0.2413793103448276\n",
      "Clusters: [[7, 8, 10, 11, 12, 13, 14, 16, 17, 18, 19], [0, 1, 2, 3, 4, 5, 6, 9, 15]]\n",
      "Clusters we get using our current algorithm:  [[1 1 1 1 1 1 1 0 0 1 0 0 0 0 0 1 0 0 0 0]]\n",
      "The edge-cut of the clusters: [[7, 3], [7, 6], [8, 3], [8, 9], [10, 0], [12, 15], [16, 6]]\n"
     ]
    },
    {
     "data": {
      "text/plain": [
       "0"
      ]
     },
     "execution_count": 26,
     "metadata": {},
     "output_type": "execute_result"
    }
   ],
   "source": [
    "Double_Tree1 = {}\n",
    "\n",
    "for i in range(1,10):\n",
    "    Double_Tree1[i] = [math.floor((i - 1)/2)]\n",
    "    Double_Tree1[i + 10] = [10 + math.floor((i - 1)/2)]\n",
    "\n",
    "Double_Tree1[0] = [10]\n",
    "\n",
    "for i in range(5,9):\n",
    "     Double_Tree1[i].append(10+i)\n",
    "for i in range(0,9):\n",
    "    Double_Tree1[i].append((i+1)%10)\n",
    "D_T1 = ['Double_Tree1',[[Double_Tree1], [20]]]\n",
    "\n",
    "Graphs.append(D_T1)\n",
    "print(D_T1)\n",
    "show_results(D_T1, True)\n",
    "\n"
   ]
  },
  {
   "cell_type": "code",
   "execution_count": 27,
   "metadata": {
    "scrolled": false
   },
   "outputs": [],
   "source": [
    "for graph in Graphs:\n",
    "    show_results(graph, False)\n",
    "    \n",
    "    "
   ]
  },
  {
   "cell_type": "code",
   "execution_count": 28,
   "metadata": {},
   "outputs": [
    {
     "data": {
      "text/html": [
       "<div>\n",
       "<style scoped>\n",
       "    .dataframe tbody tr th:only-of-type {\n",
       "        vertical-align: middle;\n",
       "    }\n",
       "\n",
       "    .dataframe tbody tr th {\n",
       "        vertical-align: top;\n",
       "    }\n",
       "\n",
       "    .dataframe thead th {\n",
       "        text-align: right;\n",
       "    }\n",
       "</style>\n",
       "<table border=\"1\" class=\"dataframe\">\n",
       "  <thead>\n",
       "    <tr style=\"text-align: right;\">\n",
       "      <th></th>\n",
       "      <th>UnL</th>\n",
       "      <th>SymL</th>\n",
       "      <th>RwL</th>\n",
       "    </tr>\n",
       "  </thead>\n",
       "  <tbody>\n",
       "    <tr>\n",
       "      <th>Petersen</th>\n",
       "      <td>0.466667</td>\n",
       "      <td>0.466667</td>\n",
       "      <td>0.466667</td>\n",
       "    </tr>\n",
       "    <tr>\n",
       "      <th>Enneahedron</th>\n",
       "      <td>0.333333</td>\n",
       "      <td>0.333333</td>\n",
       "      <td>0.333333</td>\n",
       "    </tr>\n",
       "    <tr>\n",
       "      <th>Enneahedron_1</th>\n",
       "      <td>0.375000</td>\n",
       "      <td>0.375000</td>\n",
       "      <td>0.375000</td>\n",
       "    </tr>\n",
       "    <tr>\n",
       "      <th>Cockroach</th>\n",
       "      <td>0.200000</td>\n",
       "      <td>0.200000</td>\n",
       "      <td>0.200000</td>\n",
       "    </tr>\n",
       "    <tr>\n",
       "      <th>Cockroach_1</th>\n",
       "      <td>0.166667</td>\n",
       "      <td>0.166667</td>\n",
       "      <td>0.166667</td>\n",
       "    </tr>\n",
       "    <tr>\n",
       "      <th>Path_point</th>\n",
       "      <td>0.411765</td>\n",
       "      <td>0.411765</td>\n",
       "      <td>0.411765</td>\n",
       "    </tr>\n",
       "    <tr>\n",
       "      <th>Two_clusters</th>\n",
       "      <td>0.076923</td>\n",
       "      <td>0.076923</td>\n",
       "      <td>0.076923</td>\n",
       "    </tr>\n",
       "    <tr>\n",
       "      <th>Discrete_moons</th>\n",
       "      <td>0.071429</td>\n",
       "      <td>0.071429</td>\n",
       "      <td>0.071429</td>\n",
       "    </tr>\n",
       "    <tr>\n",
       "      <th>Double_Tree</th>\n",
       "      <td>0.052632</td>\n",
       "      <td>0.052632</td>\n",
       "      <td>0.052632</td>\n",
       "    </tr>\n",
       "    <tr>\n",
       "      <th>Double_Tree1</th>\n",
       "      <td>0.250000</td>\n",
       "      <td>0.250000</td>\n",
       "      <td>0.241379</td>\n",
       "    </tr>\n",
       "  </tbody>\n",
       "</table>\n",
       "</div>"
      ],
      "text/plain": [
       "                     UnL      SymL       RwL\n",
       "Petersen        0.466667  0.466667  0.466667\n",
       "Enneahedron     0.333333  0.333333  0.333333\n",
       "Enneahedron_1   0.375000  0.375000  0.375000\n",
       "Cockroach       0.200000  0.200000  0.200000\n",
       "Cockroach_1     0.166667  0.166667  0.166667\n",
       "Path_point      0.411765  0.411765  0.411765\n",
       "Two_clusters    0.076923  0.076923  0.076923\n",
       "Discrete_moons  0.071429  0.071429  0.071429\n",
       "Double_Tree     0.052632  0.052632  0.052632\n",
       "Double_Tree1    0.250000  0.250000  0.241379"
      ]
     },
     "execution_count": 28,
     "metadata": {},
     "output_type": "execute_result"
    }
   ],
   "source": [
    "Results_conductance.T\n"
   ]
  },
  {
   "cell_type": "code",
   "execution_count": 29,
   "metadata": {},
   "outputs": [
    {
     "data": {
      "text/html": [
       "<div>\n",
       "<style scoped>\n",
       "    .dataframe tbody tr th:only-of-type {\n",
       "        vertical-align: middle;\n",
       "    }\n",
       "\n",
       "    .dataframe tbody tr th {\n",
       "        vertical-align: top;\n",
       "    }\n",
       "\n",
       "    .dataframe thead th {\n",
       "        text-align: right;\n",
       "    }\n",
       "</style>\n",
       "<table border=\"1\" class=\"dataframe\">\n",
       "  <thead>\n",
       "    <tr style=\"text-align: right;\">\n",
       "      <th></th>\n",
       "      <th>UnL</th>\n",
       "      <th>SymL</th>\n",
       "      <th>RwL</th>\n",
       "    </tr>\n",
       "  </thead>\n",
       "  <tbody>\n",
       "    <tr>\n",
       "      <th>Petersen</th>\n",
       "      <td>0.933333</td>\n",
       "      <td>0.933333</td>\n",
       "      <td>0.933333</td>\n",
       "    </tr>\n",
       "    <tr>\n",
       "      <th>Enneahedron</th>\n",
       "      <td>0.666667</td>\n",
       "      <td>0.666667</td>\n",
       "      <td>0.666667</td>\n",
       "    </tr>\n",
       "    <tr>\n",
       "      <th>Enneahedron_1</th>\n",
       "      <td>0.750000</td>\n",
       "      <td>0.750000</td>\n",
       "      <td>0.750000</td>\n",
       "    </tr>\n",
       "    <tr>\n",
       "      <th>Cockroach</th>\n",
       "      <td>0.247619</td>\n",
       "      <td>0.247619</td>\n",
       "      <td>0.247619</td>\n",
       "    </tr>\n",
       "    <tr>\n",
       "      <th>Cockroach_1</th>\n",
       "      <td>0.291667</td>\n",
       "      <td>0.291667</td>\n",
       "      <td>0.291667</td>\n",
       "    </tr>\n",
       "    <tr>\n",
       "      <th>Path_point</th>\n",
       "      <td>0.691765</td>\n",
       "      <td>0.691765</td>\n",
       "      <td>0.691765</td>\n",
       "    </tr>\n",
       "    <tr>\n",
       "      <th>Two_clusters</th>\n",
       "      <td>0.153846</td>\n",
       "      <td>0.153846</td>\n",
       "      <td>0.153846</td>\n",
       "    </tr>\n",
       "    <tr>\n",
       "      <th>Discrete_moons</th>\n",
       "      <td>0.092705</td>\n",
       "      <td>0.092705</td>\n",
       "      <td>0.092705</td>\n",
       "    </tr>\n",
       "    <tr>\n",
       "      <th>Double_Tree</th>\n",
       "      <td>0.105263</td>\n",
       "      <td>0.105263</td>\n",
       "      <td>0.105263</td>\n",
       "    </tr>\n",
       "    <tr>\n",
       "      <th>Double_Tree1</th>\n",
       "      <td>0.336957</td>\n",
       "      <td>0.336957</td>\n",
       "      <td>0.453501</td>\n",
       "    </tr>\n",
       "  </tbody>\n",
       "</table>\n",
       "</div>"
      ],
      "text/plain": [
       "                     UnL      SymL       RwL\n",
       "Petersen        0.933333  0.933333  0.933333\n",
       "Enneahedron     0.666667  0.666667  0.666667\n",
       "Enneahedron_1   0.750000  0.750000  0.750000\n",
       "Cockroach       0.247619  0.247619  0.247619\n",
       "Cockroach_1     0.291667  0.291667  0.291667\n",
       "Path_point      0.691765  0.691765  0.691765\n",
       "Two_clusters    0.153846  0.153846  0.153846\n",
       "Discrete_moons  0.092705  0.092705  0.092705\n",
       "Double_Tree     0.105263  0.105263  0.105263\n",
       "Double_Tree1    0.336957  0.336957  0.453501"
      ]
     },
     "execution_count": 29,
     "metadata": {},
     "output_type": "execute_result"
    }
   ],
   "source": [
    "Results_ncut.T"
   ]
  },
  {
   "cell_type": "code",
   "execution_count": null,
   "metadata": {},
   "outputs": [],
   "source": []
  }
 ],
 "metadata": {
  "kernelspec": {
   "display_name": "Python 3",
   "language": "python",
   "name": "python3"
  },
  "language_info": {
   "codemirror_mode": {
    "name": "ipython",
    "version": 3
   },
   "file_extension": ".py",
   "mimetype": "text/x-python",
   "name": "python",
   "nbconvert_exporter": "python",
   "pygments_lexer": "ipython3",
   "version": "3.6.9"
  }
 },
 "nbformat": 4,
 "nbformat_minor": 2
}

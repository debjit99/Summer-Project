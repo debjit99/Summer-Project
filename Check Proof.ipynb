{
 "cells": [
  {
   "cell_type": "code",
   "execution_count": 1,
   "metadata": {},
   "outputs": [],
   "source": [
    "import numpy as np\n",
    "import scipy as sp\n",
    "from numpy import linalg as LA\n",
    "import networkx.linalg.algebraicconnectivity as alg\n",
    "import collections \n",
    "import math\n",
    "import pandas as pd\n",
    "import networkx as nx "
   ]
  },
  {
   "cell_type": "code",
   "execution_count": 17,
   "metadata": {},
   "outputs": [],
   "source": [
    "def get_symmetric_laplacian(w):\n",
    "    \n",
    "    D = w.sum(axis = 1)\n",
    "    zero_entries = np.where(D == 0)[0]\n",
    "    D[zero_entries] = 1\n",
    "    D_sqrt = np.sqrt(D)\n",
    "    \n",
    "    D_1 = np.reciprocal(D_sqrt)\n",
    "    D_1 = np.diag(D_1)  \n",
    "    D = np.diag(D)\n",
    "    L = np.dot(D_1, np.dot(D - w, D_1))\n",
    "    \n",
    "    return L"
   ]
  },
  {
   "cell_type": "code",
   "execution_count": 2,
   "metadata": {},
   "outputs": [],
   "source": [
    "def get_random_walk_laplacian(w):\n",
    "    \n",
    "    D = w.sum(axis = 1)\n",
    "    zero_entries = np.where(D == 0)[0]\n",
    "    D[zero_entries] = 1\n",
    "    D_1 = np.reciprocal(D)\n",
    "    D_1 = np.diag(D_1)  \n",
    "    D = np.diag(D)\n",
    "    L = np.dot(D - w, D_1)\n",
    "    \n",
    "    return L"
   ]
  },
  {
   "cell_type": "code",
   "execution_count": 3,
   "metadata": {},
   "outputs": [],
   "source": [
    "def get_fielder(l, n):  #Similairty matix W\n",
    "\n",
    "    eigvals, eigvecs = sp.linalg.eigh(l)# eigen values and eigen vectors of the unnormalized laplacian D - W \n",
    "    #print(\"Eigenvalues: \",eigvals, \"\\n\")\n",
    "    eigvecs = np.round( eigvecs, 5)\n",
    "    eigvals = np.round(eigvals, 4)\n",
    "    cardinality = 1\n",
    "    \n",
    "    fielder_eigval = eigvals[1]\n",
    "        \n",
    "    fielder = eigvecs.T[1, :] #The 2nd smallest eigen vector of the laplacian L = D - W\n",
    "    \n",
    "    return fielder\n"
   ]
  },
  {
   "cell_type": "code",
   "execution_count": 4,
   "metadata": {},
   "outputs": [],
   "source": [
    "def get_matrix(graph, n):\n",
    "    \n",
    "    w = np.zeros((n, n))\n",
    "   \n",
    "    for x in graph.keys() :\n",
    "        for y in graph[x]:\n",
    "            w[x][y] = 1\n",
    "            w[y][x] = 1\n",
    "\n",
    "    return w\n",
    "    "
   ]
  },
  {
   "cell_type": "code",
   "execution_count": 9,
   "metadata": {},
   "outputs": [],
   "source": [
    "def show_graph_with_labels(adjacency_matrix):\n",
    "    G = nx.from_numpy_matrix(adjacency_matrix) \n",
    "    nx.draw(G, with_labels=True)\n"
   ]
  },
  {
   "cell_type": "code",
   "execution_count": 12,
   "metadata": {},
   "outputs": [],
   "source": [
    "graph = [{0 : [1],\n",
    "         1 : [2],\n",
    "         2 : [3],\n",
    "         3 : [4],\n",
    "         4 : [5],\n",
    "         5 : [6],\n",
    "         6 : [7],\n",
    "         7 : [6],\n",
    "             },\n",
    "        8]"
   ]
  },
  {
   "cell_type": "code",
   "execution_count": 13,
   "metadata": {},
   "outputs": [],
   "source": [
    "W = get_matrix(graph[0], graph[1])"
   ]
  },
  {
   "cell_type": "code",
   "execution_count": 14,
   "metadata": {},
   "outputs": [
    {
     "data": {
      "image/png": "[encoded data removed]",
      "text/plain": [
       "<Figure size 432x288 with 1 Axes>"
      ]
     },
     "metadata": {},
     "output_type": "display_data"
    }
   ],
   "source": [
    "show_graph_with_labels(W)"
   ]
  },
  {
   "cell_type": "code",
   "execution_count": 15,
   "metadata": {},
   "outputs": [],
   "source": [
    "P = get_random_walk_laplacian(W)"
   ]
  },
  {
   "cell_type": "code",
   "execution_count": 16,
   "metadata": {},
   "outputs": [
    {
     "data": {
      "text/plain": [
       "array([-0.19898, -0.17502,  0.09006,  0.33346,  0.49656,  0.54009,\n",
       "        0.45357,  0.25783])"
      ]
     },
     "execution_count": 16,
     "metadata": {},
     "output_type": "execute_result"
    }
   ],
   "source": [
    "get_fielder(P, 8)"
   ]
  },
  {
   "cell_type": "code",
   "execution_count": 18,
   "metadata": {},
   "outputs": [
    {
     "data": {
      "text/plain": [
       "array([-0.37796, -0.48159, -0.33327, -0.11894,  0.11894,  0.33327,\n",
       "        0.48159,  0.37796])"
      ]
     },
     "execution_count": 18,
     "metadata": {},
     "output_type": "execute_result"
    }
   ],
   "source": [
    "L = get_symmetric_laplacian(W)\n",
    "get_fielder(L, 8)"
   ]
  }
 ],
 "metadata": {
  "kernelspec": {
   "display_name": "Python 3",
   "language": "python",
   "name": "python3"
  },
  "language_info": {
   "codemirror_mode": {
    "name": "ipython",
    "version": 3
   },
   "file_extension": ".py",
   "mimetype": "text/x-python",
   "name": "python",
   "nbconvert_exporter": "python",
   "pygments_lexer": "ipython3",
   "version": "3.6.9"
  }
 },
 "nbformat": 4,
 "nbformat_minor": 2
}

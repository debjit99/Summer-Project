{
 "cells": [
  {
   "cell_type": "code",
   "execution_count": 1,
   "metadata": {},
   "outputs": [],
   "source": [
    "import os\n",
    "import import_ipynb\n",
    "from RAH import show_results_hypothesis\n",
    "\n",
    "import pandas as pd\n",
    "from numpy import *\n",
    "import numpy as np \n",
    "import networkx as nx \n"
   ]
  },
  {
   "cell_type": "code",
   "execution_count": 2,
   "metadata": {},
   "outputs": [],
   "source": [
    "Results_ncut_hypothesis = pd.DataFrame(index = ['SLUP','SLP', 'SLS', 'UnUP','UnP', 'UnS','RwUP','RwP', 'RwS'])\n",
    "Results_conductance_hypothesis = pd.DataFrame(index = ['SLUP','SLP', 'SLS', 'UnUP','UnP', 'UnS','RwUP','RwP', 'RwS'])\n",
    "\n",
    "graph_number = 0\n",
    "graphs = {}\n",
    "FN = -1"
   ]
  },
  {
   "cell_type": "code",
   "execution_count": 3,
   "metadata": {},
   "outputs": [],
   "source": [
    "def add_result_row(graph):\n",
    "    \n",
    "    Results_ncut_hypothesis[graph[0]], Results_conductance_hypothesis[graph[0]] = show_results_hypothesis(graph[1])"
   ]
  },
  {
   "cell_type": "code",
   "execution_count": 4,
   "metadata": {},
   "outputs": [],
   "source": [
    "FN = -1"
   ]
  },
  {
   "cell_type": "code",
   "execution_count": 5,
   "metadata": {
    "scrolled": true
   },
   "outputs": [
    {
     "name": "stdout",
     "output_type": "stream",
     "text": [
      "0\n",
      "1\n",
      "2\n",
      "3\n",
      "4\n",
      "5\n",
      "6\n",
      "7\n",
      "8\n",
      "9\n",
      "10\n",
      "11\n",
      "12\n",
      "13\n",
      "14\n",
      "15\n",
      "16\n",
      "17\n",
      "18\n",
      "19\n",
      "20\n"
     ]
    }
   ],
   "source": [
    "path = \"Random Graph Data/\"\n",
    "dirs = os.listdir(path)\n",
    "\n",
    "for filenumber in range(len(dirs)):\n",
    "    if filenumber <= FN:\n",
    "        continue\n",
    "    print(filenumber)\n",
    "    name = 'Random Graph Data/' + dirs[filenumber]\n",
    "    if(dirs[filenumber][0] != 'r'):\n",
    "        continue\n",
    "    data = np.load(name)\n",
    "    M = data['arr_0']\n",
    "    Graph = ['g' + str(graph_number), M]\n",
    "    graphs[graph_number] = M\n",
    "    graph_number += 1\n",
    "    add_result_row(Graph)\n",
    "    "
   ]
  },
  {
   "cell_type": "code",
   "execution_count": 6,
   "metadata": {},
   "outputs": [],
   "source": [
    "RL_Ncut = Results_ncut_hypothesis.T"
   ]
  },
  {
   "cell_type": "code",
   "execution_count": 7,
   "metadata": {},
   "outputs": [
    {
     "data": {
      "text/plain": [
       "<Figure size 640x480 with 1 Axes>"
      ]
     },
     "metadata": {},
     "output_type": "display_data"
    }
   ],
   "source": [
    "import matplotlib.pyplot as plt \n",
    "from matplotlib.pyplot import figure\n",
    "\n",
    "y_SLP = RL_Ncut['SLP'].values\n",
    "y_UnP = RL_Ncut['UnP'].values\n",
    "y_RwP = RL_Ncut['RwP'].values\n",
    "y_SLS = RL_Ncut['SLS'].values\n",
    "y_UnS = RL_Ncut['UnS'].values\n",
    "y_RwS = RL_Ncut['RwS'].values\n",
    "\n",
    "x = range(0,graph_number) \n",
    "plt.plot(x, y_UnP, color ='r', label ='UnP') \n",
    "plt.plot(x, y_RwP, color ='b', label ='RwP') \n",
    "plt.plot(x, y_SLP, color ='g', label ='SLP') \n",
    "plt.plot(x, y_UnS, color ='y', label ='UnS') \n",
    "plt.plot(x, y_RwS, color ='c', label ='RwS') \n",
    "plt.plot(x, y_SLS, color ='m', label ='SLS') \n",
    "\n",
    "plt.xlabel('x - axis') \n",
    "plt.ylabel('y - axis') \n",
    "plt.title(\"Ncut\")\n",
    "plt.legend(loc='upper right')\n",
    "plt.rcParams[\"figure.figsize\"] = [20,9]\n",
    "plt.show() "
   ]
  },
  {
   "cell_type": "code",
   "execution_count": 8,
   "metadata": {},
   "outputs": [
    {
     "data": {
      "image/png": "[encoded data removed]",
      "text/plain": [
       "<Figure size 432x288 with 1 Axes>"
      ]
     },
     "metadata": {
      "needs_background": "light"
     },
     "output_type": "display_data"
    }
   ],
   "source": [
    "y_P = np.fmin(y_SLP, y_RwP, y_UnP)\n",
    "y_S = np.fmin(y_SLS, y_UnS, y_RwS)\n",
    "\n",
    "x = range(0,graph_number) \n",
    "plt.plot(x, y_P, color ='r', label ='Proposed') \n",
    "plt.plot(x, y_S, color ='b', label ='Spectral') \n",
    "\n",
    "plt.xlabel('x - axis') \n",
    "plt.ylabel('y - axis') \n",
    "plt.title(\"Ncut\")\n",
    "plt.legend(loc='upper right')\n",
    "plt.rcParams[\"figure.figsize\"] = [20,9]\n",
    "plt.show() "
   ]
  },
  {
   "cell_type": "code",
   "execution_count": 9,
   "metadata": {},
   "outputs": [
    {
     "data": {
      "text/plain": [
       "array([0.        , 0.41666667, 0.57934858, 0.        , 0.        ,\n",
       "       0.92307692, 0.8       , 0.        , 1.        , 0.        ,\n",
       "       0.97826087, 0.65213601, 0.84774536, 0.36363636, 0.68580804,\n",
       "       0.75      , 0.        , 0.55727554, 0.9       , 1.06666667])"
      ]
     },
     "execution_count": 9,
     "metadata": {},
     "output_type": "execute_result"
    }
   ],
   "source": [
    "y_RwP"
   ]
  },
  {
   "cell_type": "code",
   "execution_count": 10,
   "metadata": {},
   "outputs": [
    {
     "name": "stdout",
     "output_type": "stream",
     "text": [
      "[[0. 1. 0. 0. 0. 1. 0. 0.]\n",
      " [1. 0. 0. 0. 0. 0. 0. 0.]\n",
      " [0. 0. 0. 0. 0. 0. 0. 0.]\n",
      " [0. 0. 0. 0. 0. 0. 1. 1.]\n",
      " [0. 0. 0. 0. 0. 0. 0. 0.]\n",
      " [1. 0. 0. 0. 0. 0. 1. 0.]\n",
      " [0. 0. 0. 1. 0. 1. 0. 1.]\n",
      " [0. 0. 0. 1. 0. 0. 1. 0.]]\n"
     ]
    }
   ],
   "source": [
    "AM = graphs[0]\n",
    "print(AM)"
   ]
  },
  {
   "cell_type": "code",
   "execution_count": 11,
   "metadata": {},
   "outputs": [],
   "source": [
    "def show_graph_with_labels(adjacency_matrix):\n",
    "    G = nx.from_numpy_matrix(adjacency_matrix) \n",
    "    nx.draw(G, with_labels=True)"
   ]
  },
  {
   "cell_type": "code",
   "execution_count": 12,
   "metadata": {},
   "outputs": [
    {
     "data": {
      "image/png": "[encoded data removed]",
      "text/plain": [
       "<Figure size 1440x648 with 1 Axes>"
      ]
     },
     "metadata": {},
     "output_type": "display_data"
    }
   ],
   "source": [
    "show_graph_with_labels(AM)"
   ]
  },
  {
   "cell_type": "code",
   "execution_count": 13,
   "metadata": {},
   "outputs": [
    {
     "data": {
      "text/html": [
       "<div>\n",
       "<style scoped>\n",
       "    .dataframe tbody tr th:only-of-type {\n",
       "        vertical-align: middle;\n",
       "    }\n",
       "\n",
       "    .dataframe tbody tr th {\n",
       "        vertical-align: top;\n",
       "    }\n",
       "\n",
       "    .dataframe thead th {\n",
       "        text-align: right;\n",
       "    }\n",
       "</style>\n",
       "<table border=\"1\" class=\"dataframe\">\n",
       "  <thead>\n",
       "    <tr style=\"text-align: right;\">\n",
       "      <th></th>\n",
       "      <th>g0</th>\n",
       "      <th>g1</th>\n",
       "      <th>g2</th>\n",
       "      <th>g3</th>\n",
       "      <th>g4</th>\n",
       "      <th>g5</th>\n",
       "      <th>g6</th>\n",
       "      <th>g7</th>\n",
       "      <th>g8</th>\n",
       "      <th>g9</th>\n",
       "      <th>g10</th>\n",
       "      <th>g11</th>\n",
       "      <th>g12</th>\n",
       "      <th>g13</th>\n",
       "      <th>g14</th>\n",
       "      <th>g15</th>\n",
       "      <th>g16</th>\n",
       "      <th>g17</th>\n",
       "      <th>g18</th>\n",
       "      <th>g19</th>\n",
       "    </tr>\n",
       "  </thead>\n",
       "  <tbody>\n",
       "    <tr>\n",
       "      <th>SLUP</th>\n",
       "      <td>0.000000</td>\n",
       "      <td>0.416667</td>\n",
       "      <td>1.027027</td>\n",
       "      <td>0.000000</td>\n",
       "      <td>0</td>\n",
       "      <td>0.541667</td>\n",
       "      <td>0.659341</td>\n",
       "      <td>0.000000</td>\n",
       "      <td>0.600000</td>\n",
       "      <td>0</td>\n",
       "      <td>0.540865</td>\n",
       "      <td>0.598742</td>\n",
       "      <td>1.021739</td>\n",
       "      <td>0.327543</td>\n",
       "      <td>0.582375</td>\n",
       "      <td>0.750000</td>\n",
       "      <td>0</td>\n",
       "      <td>0.696774</td>\n",
       "      <td>0.562500</td>\n",
       "      <td>0.519481</td>\n",
       "    </tr>\n",
       "    <tr>\n",
       "      <th>SLP</th>\n",
       "      <td>0.000000</td>\n",
       "      <td>0.416667</td>\n",
       "      <td>0.950000</td>\n",
       "      <td>0.000000</td>\n",
       "      <td>0</td>\n",
       "      <td>0.541667</td>\n",
       "      <td>0.800000</td>\n",
       "      <td>0.000000</td>\n",
       "      <td>1.000000</td>\n",
       "      <td>0</td>\n",
       "      <td>0.667986</td>\n",
       "      <td>0.661362</td>\n",
       "      <td>0.847745</td>\n",
       "      <td>0.327543</td>\n",
       "      <td>0.684685</td>\n",
       "      <td>0.750000</td>\n",
       "      <td>0</td>\n",
       "      <td>0.780186</td>\n",
       "      <td>0.602007</td>\n",
       "      <td>0.519481</td>\n",
       "    </tr>\n",
       "    <tr>\n",
       "      <th>SLS</th>\n",
       "      <td>0.342857</td>\n",
       "      <td>0.416667</td>\n",
       "      <td>0.638655</td>\n",
       "      <td>0.833333</td>\n",
       "      <td>0</td>\n",
       "      <td>0.693333</td>\n",
       "      <td>0.800000</td>\n",
       "      <td>0.444444</td>\n",
       "      <td>0.600000</td>\n",
       "      <td>0</td>\n",
       "      <td>0.577778</td>\n",
       "      <td>0.708333</td>\n",
       "      <td>0.356061</td>\n",
       "      <td>0.327543</td>\n",
       "      <td>0.684685</td>\n",
       "      <td>0.750000</td>\n",
       "      <td>0</td>\n",
       "      <td>0.557276</td>\n",
       "      <td>0.557276</td>\n",
       "      <td>0.750469</td>\n",
       "    </tr>\n",
       "    <tr>\n",
       "      <th>UnUP</th>\n",
       "      <td>0.000000</td>\n",
       "      <td>0.416667</td>\n",
       "      <td>0.642254</td>\n",
       "      <td>0.000000</td>\n",
       "      <td>0</td>\n",
       "      <td>1.019608</td>\n",
       "      <td>0.800000</td>\n",
       "      <td>0.000000</td>\n",
       "      <td>1.043478</td>\n",
       "      <td>0</td>\n",
       "      <td>1.011236</td>\n",
       "      <td>0.598742</td>\n",
       "      <td>1.010753</td>\n",
       "      <td>0.327543</td>\n",
       "      <td>1.041096</td>\n",
       "      <td>1.066667</td>\n",
       "      <td>0</td>\n",
       "      <td>1.028571</td>\n",
       "      <td>1.028571</td>\n",
       "      <td>1.012658</td>\n",
       "    </tr>\n",
       "    <tr>\n",
       "      <th>UnP</th>\n",
       "      <td>0.000000</td>\n",
       "      <td>0.416667</td>\n",
       "      <td>0.950000</td>\n",
       "      <td>0.000000</td>\n",
       "      <td>0</td>\n",
       "      <td>0.923077</td>\n",
       "      <td>0.833333</td>\n",
       "      <td>0.000000</td>\n",
       "      <td>0.600000</td>\n",
       "      <td>0</td>\n",
       "      <td>0.978261</td>\n",
       "      <td>0.643939</td>\n",
       "      <td>1.063830</td>\n",
       "      <td>0.327543</td>\n",
       "      <td>0.685808</td>\n",
       "      <td>0.906883</td>\n",
       "      <td>0</td>\n",
       "      <td>0.696774</td>\n",
       "      <td>0.900000</td>\n",
       "      <td>1.066667</td>\n",
       "    </tr>\n",
       "    <tr>\n",
       "      <th>UnS</th>\n",
       "      <td>0.000000</td>\n",
       "      <td>0.416667</td>\n",
       "      <td>0.684685</td>\n",
       "      <td>0.000000</td>\n",
       "      <td>0</td>\n",
       "      <td>0.693333</td>\n",
       "      <td>0.833333</td>\n",
       "      <td>0.000000</td>\n",
       "      <td>0.600000</td>\n",
       "      <td>0</td>\n",
       "      <td>0.588235</td>\n",
       "      <td>0.708333</td>\n",
       "      <td>0.356061</td>\n",
       "      <td>0.327543</td>\n",
       "      <td>0.684685</td>\n",
       "      <td>0.750000</td>\n",
       "      <td>0</td>\n",
       "      <td>0.675000</td>\n",
       "      <td>0.666667</td>\n",
       "      <td>0.750469</td>\n",
       "    </tr>\n",
       "    <tr>\n",
       "      <th>RwUP</th>\n",
       "      <td>0.000000</td>\n",
       "      <td>0.416667</td>\n",
       "      <td>0.639731</td>\n",
       "      <td>0.000000</td>\n",
       "      <td>0</td>\n",
       "      <td>1.019608</td>\n",
       "      <td>0.659341</td>\n",
       "      <td>0.000000</td>\n",
       "      <td>0.600000</td>\n",
       "      <td>0</td>\n",
       "      <td>1.011236</td>\n",
       "      <td>1.152542</td>\n",
       "      <td>1.021739</td>\n",
       "      <td>0.419048</td>\n",
       "      <td>0.989583</td>\n",
       "      <td>0.750000</td>\n",
       "      <td>0</td>\n",
       "      <td>0.557276</td>\n",
       "      <td>1.028571</td>\n",
       "      <td>1.012658</td>\n",
       "    </tr>\n",
       "    <tr>\n",
       "      <th>RwP</th>\n",
       "      <td>0.000000</td>\n",
       "      <td>0.416667</td>\n",
       "      <td>0.579349</td>\n",
       "      <td>0.000000</td>\n",
       "      <td>0</td>\n",
       "      <td>0.923077</td>\n",
       "      <td>0.800000</td>\n",
       "      <td>0.000000</td>\n",
       "      <td>1.000000</td>\n",
       "      <td>0</td>\n",
       "      <td>0.978261</td>\n",
       "      <td>0.652136</td>\n",
       "      <td>0.847745</td>\n",
       "      <td>0.363636</td>\n",
       "      <td>0.685808</td>\n",
       "      <td>0.750000</td>\n",
       "      <td>0</td>\n",
       "      <td>0.557276</td>\n",
       "      <td>0.900000</td>\n",
       "      <td>1.066667</td>\n",
       "    </tr>\n",
       "    <tr>\n",
       "      <th>RwS</th>\n",
       "      <td>0.342857</td>\n",
       "      <td>0.416667</td>\n",
       "      <td>0.579349</td>\n",
       "      <td>0.833333</td>\n",
       "      <td>0</td>\n",
       "      <td>0.693333</td>\n",
       "      <td>0.800000</td>\n",
       "      <td>0.444444</td>\n",
       "      <td>1.000000</td>\n",
       "      <td>0</td>\n",
       "      <td>0.577778</td>\n",
       "      <td>0.705882</td>\n",
       "      <td>0.460784</td>\n",
       "      <td>0.327543</td>\n",
       "      <td>0.684685</td>\n",
       "      <td>0.750000</td>\n",
       "      <td>0</td>\n",
       "      <td>0.557276</td>\n",
       "      <td>0.557276</td>\n",
       "      <td>0.750469</td>\n",
       "    </tr>\n",
       "  </tbody>\n",
       "</table>\n",
       "</div>"
      ],
      "text/plain": [
       "            g0        g1        g2        g3  g4        g5        g6  \\\n",
       "SLUP  0.000000  0.416667  1.027027  0.000000   0  0.541667  0.659341   \n",
       "SLP   0.000000  0.416667  0.950000  0.000000   0  0.541667  0.800000   \n",
       "SLS   0.342857  0.416667  0.638655  0.833333   0  0.693333  0.800000   \n",
       "UnUP  0.000000  0.416667  0.642254  0.000000   0  1.019608  0.800000   \n",
       "UnP   0.000000  0.416667  0.950000  0.000000   0  0.923077  0.833333   \n",
       "UnS   0.000000  0.416667  0.684685  0.000000   0  0.693333  0.833333   \n",
       "RwUP  0.000000  0.416667  0.639731  0.000000   0  1.019608  0.659341   \n",
       "RwP   0.000000  0.416667  0.579349  0.000000   0  0.923077  0.800000   \n",
       "RwS   0.342857  0.416667  0.579349  0.833333   0  0.693333  0.800000   \n",
       "\n",
       "            g7        g8  g9       g10       g11       g12       g13  \\\n",
       "SLUP  0.000000  0.600000   0  0.540865  0.598742  1.021739  0.327543   \n",
       "SLP   0.000000  1.000000   0  0.667986  0.661362  0.847745  0.327543   \n",
       "SLS   0.444444  0.600000   0  0.577778  0.708333  0.356061  0.327543   \n",
       "UnUP  0.000000  1.043478   0  1.011236  0.598742  1.010753  0.327543   \n",
       "UnP   0.000000  0.600000   0  0.978261  0.643939  1.063830  0.327543   \n",
       "UnS   0.000000  0.600000   0  0.588235  0.708333  0.356061  0.327543   \n",
       "RwUP  0.000000  0.600000   0  1.011236  1.152542  1.021739  0.419048   \n",
       "RwP   0.000000  1.000000   0  0.978261  0.652136  0.847745  0.363636   \n",
       "RwS   0.444444  1.000000   0  0.577778  0.705882  0.460784  0.327543   \n",
       "\n",
       "           g14       g15  g16       g17       g18       g19  \n",
       "SLUP  0.582375  0.750000    0  0.696774  0.562500  0.519481  \n",
       "SLP   0.684685  0.750000    0  0.780186  0.602007  0.519481  \n",
       "SLS   0.684685  0.750000    0  0.557276  0.557276  0.750469  \n",
       "UnUP  1.041096  1.066667    0  1.028571  1.028571  1.012658  \n",
       "UnP   0.685808  0.906883    0  0.696774  0.900000  1.066667  \n",
       "UnS   0.684685  0.750000    0  0.675000  0.666667  0.750469  \n",
       "RwUP  0.989583  0.750000    0  0.557276  1.028571  1.012658  \n",
       "RwP   0.685808  0.750000    0  0.557276  0.900000  1.066667  \n",
       "RwS   0.684685  0.750000    0  0.557276  0.557276  0.750469  "
      ]
     },
     "execution_count": 13,
     "metadata": {},
     "output_type": "execute_result"
    }
   ],
   "source": [
    "Results_ncut_hypothesis"
   ]
  },
  {
   "cell_type": "code",
   "execution_count": 14,
   "metadata": {},
   "outputs": [],
   "source": [
    "from RAH import get_fielder\n",
    "from RAH import get_symmetric_laplacian"
   ]
  },
  {
   "cell_type": "code",
   "execution_count": 15,
   "metadata": {},
   "outputs": [
    {
     "data": {
      "text/plain": [
       "array([[-0.56848, -0.5    ,  0.     ,  0.38772,  0.     , -0.20696,\n",
       "         0.28868,  0.38772]])"
      ]
     },
     "execution_count": 15,
     "metadata": {},
     "output_type": "execute_result"
    }
   ],
   "source": [
    "n = np.size(AM, axis = 1)\n",
    "get_fielder(get_symmetric_laplacian(AM), n)"
   ]
  }
 ],
 "metadata": {
  "kernelspec": {
   "display_name": "Python 3",
   "language": "python",
   "name": "python3"
  },
  "language_info": {
   "codemirror_mode": {
    "name": "ipython",
    "version": 3
   },
   "file_extension": ".py",
   "mimetype": "text/x-python",
   "name": "python",
   "nbconvert_exporter": "python",
   "pygments_lexer": "ipython3",
   "version": "3.6.9"
  }
 },
 "nbformat": 4,
 "nbformat_minor": 2
}

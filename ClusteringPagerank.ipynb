{
 "cells": [
  {
   "cell_type": "code",
   "execution_count": 1,
   "metadata": {},
   "outputs": [],
   "source": [
    "import numpy as np\n",
    "import scipy as sp\n",
    "from numpy import linalg as LA\n",
    "import networkx.linalg.algebraicconnectivity as alg\n",
    "import collections \n",
    "import math\n",
    "import pandas as pd\n",
    "import networkx as nx "
   ]
  },
  {
   "cell_type": "code",
   "execution_count": 2,
   "metadata": {},
   "outputs": [],
   "source": [
    "def pagerank(P, gamma, reward):\n",
    "    \n",
    "    n = np.size(P, 1)\n",
    "    V_1 = np.dot(reward,(1 - gamma)*(np.linalg.inv(np.eye(n) - gamma*P)))\n",
    "    \n",
    "    '''for i in range(1000):\n",
    "        \n",
    "        V_2 = gamma*np.dot(P,V_1) +(1-gamma)*reward\n",
    "        if(np.max(np.abs(V_1 - V_2)) < epsilon):\n",
    "            return V_2\n",
    "        V_1 = V_2'''\n",
    "    return V_1"
   ]
  },
  {
   "cell_type": "code",
   "execution_count": 3,
   "metadata": {},
   "outputs": [],
   "source": [
    "def ncut(cluster_name, w, n):\n",
    "    \n",
    "    cluster_name = np.asarray(cluster_name)\n",
    "    cluster_name = np.reshape(cluster_name, (1,n))\n",
    "    \n",
    "    mull_1 = cluster_name\n",
    "    mull_2 = np.ones((1,n)) - mull_1\n",
    "    \n",
    "    w_1 = np.dot(mull_1, np.dot(w, np.ones((n,1))))\n",
    "    w_2 = np.dot(mull_2, np.dot(w, np.ones((n,1))))\n",
    "    \n",
    "    \n",
    "    cut = np.dot(mull_1, np.dot(w,mull_2.T))\n",
    "    #print(cut, w_1,w_2)\n",
    "    \n",
    "    ans = cut*(1/w_1 + 1/w_2)\n",
    "    ans_1 = cut/min(w_1, w_2)\n",
    "    \n",
    "    return ans[0][0], ans_1[0][0] \n"
   ]
  },
  {
   "cell_type": "code",
   "execution_count": 4,
   "metadata": {},
   "outputs": [],
   "source": [
    "def get_sweep_cut_pagerank(W):\n",
    "    \n",
    "    gamma = 0.5\n",
    "    start = 1\n",
    "    \n",
    "    n = np.size(W, 1)\n",
    "    D = W.sum(axis = 1)\n",
    "    zero_entries = np.where(D == 0)[0]\n",
    "    D[zero_entries] = 1\n",
    "    D_1 = np.reciprocal(D)\n",
    "    D_1 = np.diag(D_1)  \n",
    "    D = np.diag(D)\n",
    "    P = np.dot(W, D_1)\n",
    "    \n",
    "    X_s = np.zeros((1,n))\n",
    "    X_s[0][start] = 1\n",
    "    V = pagerank(P, gamma, X_s)\n",
    "    #print(V)\n",
    "    order = np.argsort(np.dot(V,D_1), axis = 1)[0]\n",
    "    print(order)\n",
    "    threshold_index = 0\n",
    "    best_conductance = 2\n",
    "    cluster_name = [0]*n\n",
    "    clusters = [[], []]\n",
    "\n",
    "    \n",
    "    for i in range(0, n - 1):\n",
    "\n",
    "        cluster_name[order[i]] = 1\n",
    "        nc, c = ncut(cluster_name, W, n)\n",
    "        #print(i, nc, c, best_conductance)\n",
    "        if(c <= best_conductance):\n",
    "            best_conductance = c\n",
    "            threshold_index = i\n",
    "\n",
    "    cluster_name = [0]*n\n",
    "\n",
    "    for i in range(0,threshold_index + 1):\n",
    "        cluster_name[order[i]] = 1\n",
    "\n",
    "    for i in range(0, n):\n",
    "        clusters[cluster_name[i]].append(i)\n",
    "\n",
    "    # this part changes the cluster_name from a list to numpy array (This step helps to write easy codes)\n",
    "    cluster_name = np.asarray(cluster_name)\n",
    "    cluster_name = np.reshape(cluster_name, (1,n))\n",
    "    #print(deg)\n",
    "\n",
    "    return best_conductance"
   ]
  },
  {
   "cell_type": "code",
   "execution_count": 5,
   "metadata": {},
   "outputs": [],
   "source": [
    "def get_matrix(graph, n):\n",
    "    \n",
    "    w = np.zeros((n, n))\n",
    "   \n",
    "    for x in graph.keys() :\n",
    "        for y in graph[x]:\n",
    "            w[x][y] = 1\n",
    "            w[y][x] = 1\n",
    "\n",
    "    return w\n",
    "    "
   ]
  },
  {
   "cell_type": "code",
   "execution_count": 6,
   "metadata": {},
   "outputs": [],
   "source": [
    "def show_graph_with_labels(adjacency_matrix):\n",
    "    G = nx.from_numpy_matrix(adjacency_matrix) \n",
    "    nx.draw(G, with_labels=True)\n"
   ]
  },
  {
   "cell_type": "code",
   "execution_count": 7,
   "metadata": {},
   "outputs": [],
   "source": [
    "graph = [{0 : [1],\n",
    "         1 : [2],\n",
    "         2 : [3],\n",
    "         3 : [4],\n",
    "         4 : [5],\n",
    "         5 : [6],\n",
    "         6 : [7],\n",
    "         7 : [6],\n",
    "             },\n",
    "        8]"
   ]
  },
  {
   "cell_type": "code",
   "execution_count": 8,
   "metadata": {},
   "outputs": [],
   "source": [
    "W = get_matrix(graph[0], graph[1])"
   ]
  },
  {
   "cell_type": "code",
   "execution_count": 9,
   "metadata": {},
   "outputs": [
    {
     "data": {
      "image/png": "[encoded data removed]",
      "text/plain": [
       "<Figure size 432x288 with 1 Axes>"
      ]
     },
     "metadata": {},
     "output_type": "display_data"
    }
   ],
   "source": [
    "show_graph_with_labels(W)"
   ]
  },
  {
   "cell_type": "code",
   "execution_count": 10,
   "metadata": {},
   "outputs": [
    {
     "name": "stdout",
     "output_type": "stream",
     "text": [
      "[6 7 5 4 3 2 0 1]\n",
      "0.14285714285714285\n"
     ]
    }
   ],
   "source": [
    "'''clusters, cluster_name = get_sweep_cut(W)\n",
    "nc, c = ncut(cluster_name, W, 8)\n",
    "print(nc, c)'''\n",
    "print(get_sweep_cut_pagerank(W))"
   ]
  }
 ],
 "metadata": {
  "kernelspec": {
   "display_name": "Python 3",
   "language": "python",
   "name": "python3"
  },
  "language_info": {
   "codemirror_mode": {
    "name": "ipython",
    "version": 3
   },
   "file_extension": ".py",
   "mimetype": "text/x-python",
   "name": "python",
   "nbconvert_exporter": "python",
   "pygments_lexer": "ipython3",
   "version": "3.7.6"
  }
 },
 "nbformat": 4,
 "nbformat_minor": 2
}

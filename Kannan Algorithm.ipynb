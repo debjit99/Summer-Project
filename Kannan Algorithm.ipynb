{
 "cells": [
  {
   "cell_type": "markdown",
   "metadata": {},
   "source": [
    "Make proper comments as the comments are not correct.\n"
   ]
  },
  {
   "cell_type": "code",
   "execution_count": 1,
   "metadata": {},
   "outputs": [],
   "source": [
    "%matplotlib inline\n",
    "\n",
    "import matplotlib\n",
    "import matplotlib.pyplot as plt"
   ]
  },
  {
   "cell_type": "code",
   "execution_count": 2,
   "metadata": {},
   "outputs": [],
   "source": [
    "import numpy as np\n",
    "import scipy as sp\n",
    "from numpy import linalg as LA\n",
    "import networkx.linalg.algebraicconnectivity as alg\n",
    "import collections \n",
    "import math\n",
    "import pandas as pd\n",
    "\n",
    "\n",
    "Results_ncut = pd.DataFrame(index = ['kannan', 'UnL' , 'SymL', 'RwL'])\n",
    "Results_conductance = pd.DataFrame(index = ['kannan', 'UnL' , 'SymL', 'RwL'])\n",
    "Graphs = []"
   ]
  },
  {
   "cell_type": "code",
   "execution_count": 3,
   "metadata": {},
   "outputs": [],
   "source": [
    "\n",
    "# This wil get us the similarity matrix W given the graph and the number of vertices n.\n",
    "# the vertices are number form 0 to n - 1.\n",
    "def get_matrix1(graph, n):   \n",
    "    \n",
    "    w = np.zeros((n, n))\n",
    "\n",
    "    for i in range(0, n):\n",
    "        for j in range(0, n):\n",
    "            if(i != j):\n",
    "                w[i][j] =  1/((graph[i,0] - graph[j,0])**2 + (graph[i, 1] - graph[j, 1])**2)**(1/2)\n",
    "    print(w)\n",
    "    return w\n"
   ]
  },
  {
   "cell_type": "code",
   "execution_count": 4,
   "metadata": {},
   "outputs": [],
   "source": [
    "\n",
    "# This wil get us the similarity matrix W given the graph and the number of vertices n.\n",
    "# the vertices are number form 0 to n - 1.\n",
    "def get_matrix2(graph, n):\n",
    "    \n",
    "    \n",
    "    w = np.zeros((n, n))\n",
    "   \n",
    "    for x in graph.keys() :\n",
    "        for y in graph[x]:\n",
    "            w[x][y] = 1\n",
    "            w[y][x] = 1\n",
    "    return w\n",
    "    "
   ]
  },
  {
   "cell_type": "code",
   "execution_count": 5,
   "metadata": {},
   "outputs": [],
   "source": [
    "# returns the fielder eigen vector given the similartiy matrix W.\n",
    "\n",
    "def get_fielder(b, n):  #Similairty matix W\n",
    "\n",
    "    eigvals, eigvecs =sp.linalg.eigh(b)# eigen values and eigen vectors of the unnormalized laplacian D - W \n",
    "    #print(eigvals, eigvecs)\n",
    "    fielder = eigvecs.T[-2, :] #The 2nd largest eigen vector of the laplacian L = D - W\n",
    "    \n",
    "    return fielder\n",
    "\n"
   ]
  },
  {
   "cell_type": "code",
   "execution_count": null,
   "metadata": {},
   "outputs": [],
   "source": []
  },
  {
   "cell_type": "code",
   "execution_count": 6,
   "metadata": {},
   "outputs": [],
   "source": [
    "# Here we use our current algorithm to partition the graph\n",
    "# This returns the clusters, the cluster_name vector and the edeges cut\n",
    "def get_clusters(f, w, n): # the similarity matrix and the number of vertices\n",
    "    \n",
    "    threshold_index = 0\n",
    "    index = np.argsort(f)\n",
    "    #print(index)\n",
    "    \n",
    "    best_conductance = 2\n",
    "    cluster_name = [0]*n\n",
    "    clusters = [[], []]\n",
    "    \n",
    "    for i in range(0, n - 1):\n",
    "        \n",
    "        cluster_name[index[i]] = 1\n",
    "        nc, c = ncut(cluster_name, w, n)\n",
    "        #print(i, nc, c, best_conductance)\n",
    "        if(c <= best_conductance):\n",
    "            best_conductance = c\n",
    "            threshold_index = i\n",
    "    \n",
    "    cluster_name = [0]*n\n",
    "    \n",
    "    for i in range(0,threshold_index + 1):\n",
    "        cluster_name[index[i]] = 1\n",
    "    \n",
    "    for i in range(0, n):\n",
    "        clusters[cluster_name[i]].append(i)\n",
    "        \n",
    "    # this part changes the cluster_name from a list to numpy array (This step helps to write easy codes)\n",
    "    cluster_name = np.asarray(cluster_name)\n",
    "    cluster_name = np.reshape(cluster_name, (1,n))\n",
    "    \n",
    "    cp = cluster_name.flatten().tolist()\n",
    "    \n",
    "    \n",
    "    return clusters, cluster_name\n"
   ]
  },
  {
   "cell_type": "code",
   "execution_count": 7,
   "metadata": {},
   "outputs": [],
   "source": [
    "def ncut(cluster_name, w, n):\n",
    "    \n",
    "    cluster_name = np.asarray(cluster_name)\n",
    "    cluster_name = np.reshape(cluster_name, (1,n))\n",
    "    \n",
    "    mull_1 = cluster_name\n",
    "    mull_2 = np.ones((1,n)) - mull_1\n",
    "    \n",
    "    w_1 = np.dot(mull_1, np.dot(w, np.ones((n,1))))\n",
    "    w_2 = np.dot(mull_2, np.dot(w, np.ones((n,1))))\n",
    "    \n",
    "    \n",
    "    cut = np.dot(mull_1, np.dot(w,mull_2.T))\n",
    "    #print(cut, w_1,w_2)\n",
    "    \n",
    "    ans = cut*(1/w_1 + 1/w_2)\n",
    "    ans_1 = cut/min(w_1, w_2)\n",
    "    \n",
    "    return ans[0][0], ans_1[0][0] \n",
    "\n",
    "    "
   ]
  },
  {
   "cell_type": "code",
   "execution_count": 8,
   "metadata": {},
   "outputs": [],
   "source": [
    "def get_cut(clusters, w, n):\n",
    "    cut = []\n",
    "    for x in clusters[0]:\n",
    "        for y in clusters[1]:\n",
    "            if(w[x][y] != 0):\n",
    "                cut.append([x,y])\n",
    "    return cut"
   ]
  },
  {
   "cell_type": "code",
   "execution_count": 9,
   "metadata": {},
   "outputs": [],
   "source": [
    "def get_results(b, n, w):\n",
    "    \n",
    "    fielder = get_fielder(b, n)\n",
    "    #print(fielder)\n",
    "    add_col_ncut = []\n",
    "    add_col_con = []\n",
    "    \n",
    "    clusters, cluster_predict = get_clusters(fielder, w, n) \n",
    "    nc, c = ncut(cluster_predict, w, n)\n",
    "    print(\"\\nCurrent Algorithm\\n\")\n",
    "    print(\"Ncut value:\", nc)\n",
    "    print(\"Conductance:\", c)\n",
    "    \n",
    "    add_col_ncut.append(nc)\n",
    "    add_col_con.append(c)\n",
    "    \n",
    "    return add_col_ncut, add_col_con"
   ]
  },
  {
   "cell_type": "code",
   "execution_count": 10,
   "metadata": {},
   "outputs": [],
   "source": [
    "def get_results1(b, n, w):\n",
    "    \n",
    "    \n",
    "    fielder = get_fielder(b, n)\n",
    "    add_col_ncut = []\n",
    "    add_col_con = []\n",
    "    \n",
    "    clusters, cluster_predict = get_clusters(fielder, w, n) \n",
    "    nc, c = ncut(cluster_predict, w, n)\n",
    "    \n",
    "    add_col_ncut.append(nc)\n",
    "    add_col_con.append(c)\n",
    "    \n",
    "    \n",
    "    return add_col_ncut, add_col_con"
   ]
  },
  {
   "cell_type": "code",
   "execution_count": 11,
   "metadata": {},
   "outputs": [],
   "source": [
    "def show_results(graph, print_results):\n",
    "    \n",
    "    name = graph[0]\n",
    "    graph = graph[1]\n",
    "    n = graph[1][0]\n",
    "    graph = graph[0][0]\n",
    "    w = get_matrix2(graph, n)\n",
    "    D = w.sum(axis = 1)\n",
    "    D = np.reciprocal(D)\n",
    "    D = np.diag(D)\n",
    "    b = np.dot(D, w)\n",
    "    \n",
    "    \n",
    "    if(print_results == 1):\n",
    "        add_col_ncut, add_col_con = get_results(b, n, w)\n",
    "    else:\n",
    "        add_col_ncut, add_col_con = get_results1(b, n, w)\n",
    "    \n",
    "    Results_ncut[name], Results_conductance[name] = add_col_ncut, add_col_con\n",
    "    return 0"
   ]
  },
  {
   "cell_type": "code",
   "execution_count": 12,
   "metadata": {},
   "outputs": [],
   "source": [
    "def show_results1(graph, print_results):\n",
    "    \n",
    "   \n",
    "    name = graph[0]\n",
    "    graph = graph[1]\n",
    "    n = graph[1][0]\n",
    "    w = graph[0]\n",
    "    print(n)\n",
    "    D = w.sum(axis = 1)\n",
    "    D = np.reciprocal(D)\n",
    "    D = np.diag(D)\n",
    "    b = np.dot(D, w)\n",
    "    \n",
    "    \n",
    "    if(print_results == 1):\n",
    "        add_col_ncut, add_col_con = get_results(b, n, w)\n",
    "    else:\n",
    "        add_col_ncut, add_col_con = get_results1(b, n, w)\n",
    "    \n",
    "    Results_ncut[name], Results_conductance[name] = add_col_ncut, add_col_con\n",
    "    return 0"
   ]
  },
  {
   "cell_type": "code",
   "execution_count": null,
   "metadata": {},
   "outputs": [],
   "source": []
  },
  {
   "cell_type": "code",
   "execution_count": 13,
   "metadata": {
    "scrolled": true
   },
   "outputs": [
    {
     "name": "stdout",
     "output_type": "stream",
     "text": [
      "\n",
      "Current Algorithm\n",
      "\n",
      "Ncut value: 0.9333333333333333\n",
      "Conductance: 0.4666666666666667\n"
     ]
    },
    {
     "data": {
      "text/plain": [
       "0"
      ]
     },
     "execution_count": 13,
     "metadata": {},
     "output_type": "execute_result"
    }
   ],
   "source": [
    "Petersen = ['Petersen', [[{0 : [2, 3],\n",
    "         1 : [4, 3],\n",
    "         2 : [0, 4],\n",
    "         3 : [0, 1],\n",
    "         4 : [1, 2],\n",
    "         5 : [6, 0],\n",
    "         6 : [7, 1],\n",
    "         7 : [8, 2],\n",
    "         8 : [9, 3],\n",
    "         9 : [5, 4]\n",
    "             }],\n",
    "        [10]]]\n",
    "\n",
    "Graphs.append(Petersen)\n",
    "show_results(Petersen, True)"
   ]
  },
  {
   "cell_type": "code",
   "execution_count": 14,
   "metadata": {
    "scrolled": true
   },
   "outputs": [
    {
     "name": "stdout",
     "output_type": "stream",
     "text": [
      "\n",
      "Current Algorithm\n",
      "\n",
      "Ncut value: 0.6666666666666666\n",
      "Conductance: 0.3333333333333333\n"
     ]
    },
    {
     "data": {
      "text/plain": [
       "0"
      ]
     },
     "execution_count": 14,
     "metadata": {},
     "output_type": "execute_result"
    }
   ],
   "source": [
    "Enneahedron = ['Enneahedron', [[{0 : [1, 3, 4],\n",
    "         1 : [0, 2, 4, 5],\n",
    "         2 : [1, 3, 6],\n",
    "         3 : [0, 7, 6, 2],\n",
    "         4 : [0, 1, 5, 6, 7],\n",
    "         5 : [1, 4, 6],\n",
    "         6 : [2, 3, 4, 5, 7],\n",
    "         7 : [4, 3, 6],\n",
    "             }],\n",
    "        [8]]]\n",
    "Graphs.append(Enneahedron)\n",
    "show_results(Enneahedron, True)"
   ]
  },
  {
   "cell_type": "code",
   "execution_count": 15,
   "metadata": {
    "scrolled": true
   },
   "outputs": [
    {
     "name": "stdout",
     "output_type": "stream",
     "text": [
      "\n",
      "Current Algorithm\n",
      "\n",
      "Ncut value: 0.8784313725490196\n",
      "Conductance: 0.4666666666666667\n"
     ]
    },
    {
     "data": {
      "text/plain": [
       "0"
      ]
     },
     "execution_count": 15,
     "metadata": {},
     "output_type": "execute_result"
    }
   ],
   "source": [
    "Enneahedron_1 = ['Enneahedron_1',[[{0 : [1, 3, 4],\n",
    "         1 : [0, 2, 4, 6, 5],\n",
    "         2 : [1, 3, 5],\n",
    "         3 : [0, 4, 7, 5, 2],\n",
    "         4 : [0, 1, 3, 6],\n",
    "         5 : [1, 7, 3, 2],\n",
    "         6 : [1, 3, 4, 7],\n",
    "         7 : [6, 5],\n",
    "             }],\n",
    "        [8]]]\n",
    "Graphs.append(Enneahedron_1)\n",
    "show_results(Enneahedron_1, True)"
   ]
  },
  {
   "cell_type": "code",
   "execution_count": 16,
   "metadata": {
    "scrolled": true
   },
   "outputs": [
    {
     "name": "stdout",
     "output_type": "stream",
     "text": [
      "\n",
      "Current Algorithm\n",
      "\n",
      "Ncut value: 0.24761904761904763\n",
      "Conductance: 0.2\n"
     ]
    },
    {
     "data": {
      "text/plain": [
       "0"
      ]
     },
     "execution_count": 16,
     "metadata": {},
     "output_type": "execute_result"
    }
   ],
   "source": [
    "Cockroach = ['Cockroach',[[{0 : [1],\n",
    "         1 : [0, 2],\n",
    "         2 : [1, 3],\n",
    "         3 : [2, 4, 8],\n",
    "         4 : [3, 5, 7],\n",
    "         5 : [4, 6],\n",
    "         6 : [5, 7],\n",
    "         7 : [6, 8, 4],\n",
    "         8 : [7, 9, 3],\n",
    "         9 : [8, 10],\n",
    "         10 : [11]\n",
    "             }],\n",
    "        [12]]]\n",
    "Graphs.append(Cockroach)\n",
    "show_results(Cockroach, True)"
   ]
  },
  {
   "cell_type": "code",
   "execution_count": 17,
   "metadata": {
    "scrolled": true
   },
   "outputs": [
    {
     "name": "stdout",
     "output_type": "stream",
     "text": [
      "\n",
      "Current Algorithm\n",
      "\n",
      "Ncut value: 0.29166666666666663\n",
      "Conductance: 0.16666666666666666\n"
     ]
    },
    {
     "data": {
      "text/plain": [
       "0"
      ]
     },
     "execution_count": 17,
     "metadata": {},
     "output_type": "execute_result"
    }
   ],
   "source": [
    "Cockroach_1 = ['Cockroach_1', [[{0 : [1, 11],\n",
    "         1 : [0, 2],\n",
    "         2 : [1, 3],\n",
    "         3 : [2, 4, 8],\n",
    "         4 : [3, 5, 7],\n",
    "         5 : [4, 6],\n",
    "         6 : [5, 7],\n",
    "         7 : [6, 8, 4],\n",
    "         8 : [7, 9, 3],\n",
    "         9 : [8, 10],\n",
    "         10 : [11],\n",
    "         11 : [0]    }],\n",
    "        [12]]]\n",
    "\n",
    "Graphs.append(Cockroach_1)\n",
    "show_results(Cockroach_1, True)"
   ]
  },
  {
   "cell_type": "code",
   "execution_count": 18,
   "metadata": {
    "scrolled": true
   },
   "outputs": [
    {
     "name": "stdout",
     "output_type": "stream",
     "text": [
      "\n",
      "Current Algorithm\n",
      "\n",
      "Ncut value: 0.6917647058823528\n",
      "Conductance: 0.4117647058823529\n"
     ]
    },
    {
     "data": {
      "text/plain": [
       "0"
      ]
     },
     "execution_count": 18,
     "metadata": {},
     "output_type": "execute_result"
    }
   ],
   "source": [
    "Path_point  = ['Path_point',[[{0 : [1],\n",
    "         1 : [0, 2],\n",
    "         2 : [1, 3],\n",
    "         3 : [2, 4],\n",
    "         4 : [3, 5],\n",
    "         5 : [4, 6],\n",
    "         6 : [5, 7],\n",
    "         7 : [6, 8],\n",
    "         8: [7, 9],\n",
    "         9: [8, 10],\n",
    "         10:[9, 11],\n",
    "         11 :[0,1,2,3,4,5,6,7,8,9,10]\n",
    "                }],\n",
    "        [12]]]\n",
    "\n",
    "Graphs.append(Path_point)\n",
    "show_results(Path_point, True)"
   ]
  },
  {
   "cell_type": "code",
   "execution_count": 19,
   "metadata": {
    "scrolled": true
   },
   "outputs": [
    {
     "name": "stdout",
     "output_type": "stream",
     "text": [
      "\n",
      "Current Algorithm\n",
      "\n",
      "Ncut value: 0.15384615384615385\n",
      "Conductance: 0.07692307692307693\n"
     ]
    },
    {
     "data": {
      "text/plain": [
       "0"
      ]
     },
     "execution_count": 19,
     "metadata": {},
     "output_type": "execute_result"
    }
   ],
   "source": [
    "Two_clusters = ['Two_clusters', [[{0 : [1, 2, 3],\n",
    "         1 : [0, 2, 3, 4],\n",
    "         2 : [0, 1, 3],\n",
    "         3 : [0, 1, 2],\n",
    "         4 : [5, 6, 7],\n",
    "         5 : [4, 6, 7],\n",
    "         6 : [4, 5, 7],\n",
    "         7 : [4, 5, 6]\n",
    "        }],\n",
    "        [8]]]\n",
    "\n",
    "Graphs.append(Two_clusters)\n",
    "show_results(Two_clusters, True)"
   ]
  },
  {
   "cell_type": "code",
   "execution_count": 20,
   "metadata": {},
   "outputs": [
    {
     "name": "stdout",
     "output_type": "stream",
     "text": [
      "\n",
      "Current Algorithm\n",
      "\n",
      "Ncut value: 0.09270516717325228\n",
      "Conductance: 0.07142857142857142\n"
     ]
    },
    {
     "data": {
      "text/plain": [
       "0"
      ]
     },
     "execution_count": 20,
     "metadata": {},
     "output_type": "execute_result"
    }
   ],
   "source": [
    "Discrete_moons = {}\n",
    "\n",
    "for i in range(0, 19):\n",
    "    Discrete_moons[i] = [i + 1]\n",
    "    Discrete_moons[i + 20] = [i + 21]\n",
    "\n",
    "for i in range(0, 10):\n",
    "    Discrete_moons[i].append(19 - i)\n",
    "    Discrete_moons[i + 20].append(39 - i)\n",
    "\n",
    "for i in range(0, 5):\n",
    "    Discrete_moons[i + 10].append(24 - i)\n",
    "#print(Discrete_moons)\n",
    "\n",
    "D_M = ['Discrete_moons',[[Discrete_moons], [40]]]\n",
    "\n",
    "Graphs.append(D_M)\n",
    "show_results(D_M, True)"
   ]
  },
  {
   "cell_type": "code",
   "execution_count": 21,
   "metadata": {
    "scrolled": true
   },
   "outputs": [
    {
     "name": "stdout",
     "output_type": "stream",
     "text": [
      "\n",
      "Current Algorithm\n",
      "\n",
      "Ncut value: 0.10526315789473684\n",
      "Conductance: 0.05263157894736842\n"
     ]
    },
    {
     "data": {
      "text/plain": [
       "0"
      ]
     },
     "execution_count": 21,
     "metadata": {},
     "output_type": "execute_result"
    }
   ],
   "source": [
    "Double_Tree = {}\n",
    "\n",
    "for i in range(1,10):\n",
    "    Double_Tree[i] = [math.floor((i - 1)/2)]\n",
    "    Double_Tree[i + 10] = [10 + math.floor((i - 1)/2)]\n",
    "\n",
    "Double_Tree[0] = [10]\n",
    "\n",
    "D_T = ['Double_Tree',[[Double_Tree], [20]]]\n",
    "\n",
    "Graphs.append(D_T)\n",
    "show_results(D_T, True)"
   ]
  },
  {
   "cell_type": "code",
   "execution_count": 22,
   "metadata": {},
   "outputs": [
    {
     "name": "stdout",
     "output_type": "stream",
     "text": [
      "\n",
      "Current Algorithm\n",
      "\n",
      "Ncut value: 0.5166666666666666\n",
      "Conductance: 0.26666666666666666\n"
     ]
    },
    {
     "data": {
      "text/plain": [
       "0"
      ]
     },
     "execution_count": 22,
     "metadata": {},
     "output_type": "execute_result"
    }
   ],
   "source": [
    "Double_Tree1 = {}\n",
    "\n",
    "for i in range(1,10):\n",
    "    Double_Tree1[i] = [math.floor((i-1)/2)]\n",
    "    Double_Tree1[i + 10] = [10 + math.floor((i-1)/2)]\n",
    "\n",
    "Double_Tree1[0] = [10]\n",
    "\n",
    "for i in range(5,9):\n",
    "     Double_Tree1[i].append(10+i)\n",
    "for i in range(0,9):\n",
    "    Double_Tree1[i].append((i+1)%10)\n",
    "D_T1 = ['Double_Tree1',[[Double_Tree1], [20]]]\n",
    "\n",
    "Graphs.append(D_T1)\n",
    "show_results(D_T1, True)\n",
    "\n"
   ]
  },
  {
   "cell_type": "code",
   "execution_count": 23,
   "metadata": {
    "scrolled": false
   },
   "outputs": [],
   "source": [
    "for graph in Graphs:\n",
    "    show_results(graph, False)\n",
    "    \n",
    "    "
   ]
  },
  {
   "cell_type": "code",
   "execution_count": 24,
   "metadata": {},
   "outputs": [
    {
     "name": "stdout",
     "output_type": "stream",
     "text": [
      "                  kannan\n",
      "Petersen        0.466667\n",
      "Enneahedron     0.333333\n",
      "Enneahedron_1   0.466667\n",
      "Cockroach       0.200000\n",
      "Cockroach_1     0.166667\n",
      "Path_point      0.411765\n",
      "Two_clusters    0.076923\n",
      "Discrete_moons  0.071429\n",
      "Double_Tree     0.052632\n",
      "Double_Tree1    0.266667\n"
     ]
    }
   ],
   "source": [
    "print(Results_conductance.T)\n"
   ]
  }
 ],
 "metadata": {
  "kernelspec": {
   "display_name": "Python 3",
   "language": "python",
   "name": "python3"
  },
  "language_info": {
   "codemirror_mode": {
    "name": "ipython",
    "version": 3
   },
   "file_extension": ".py",
   "mimetype": "text/x-python",
   "name": "python",
   "nbconvert_exporter": "python",
   "pygments_lexer": "ipython3",
   "version": "3.7.0"
  }
 },
 "nbformat": 4,
 "nbformat_minor": 2
}
